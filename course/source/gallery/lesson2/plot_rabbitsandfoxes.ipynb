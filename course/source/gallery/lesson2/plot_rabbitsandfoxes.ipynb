{
  "cells": [
    {
      "cell_type": "code",
      "execution_count": null,
      "metadata": {
        "collapsed": false
      },
      "outputs": [],
      "source": [
        "%matplotlib inline"
      ]
    },
    {
      "cell_type": "markdown",
      "metadata": {},
      "source": [
        "\n\n# Rabbits and foxes\n\nIn this section we will learn how to write [differential equations](https://www.khanacademy.org/math/differential-equations) \nmodels to show the rate of change of populatins of predators and prey. We will simulate the model using Python. Then we draw the phase plane \nfor the model, just as Parker does in the book in the image shown below. \n\n<img src=\"file://../../images/lesson2/ParkerCircles.png\">\n\n\n## Differential equations\n\nIn the book, I write Lotka's equations in the form of chemical reactions, \ne.g. \n\n\\begin{align}\\mbox{F} +  \\mbox{R} \\rightarrow 2 \\mbox{F}\\end{align}\n\nThis means that an F and R together becomes two F's. My character from Santa Fe, Professor Parker \nexpalins as follows,\n\n<img src=\"file://../../images/lesson2/ParkerExplains.png\">\n\nWhile in Leipzig, A. J. Lotka learnt how chemical reactions can be used to \nspecify the rate of change of populations, i.e. in terms of the derivates \nabove, using an approach, known as the law of mass action. \nThe idea is to think about the rate at which these chemical reactions take place. \nFor the first reaction \n\n\\begin{align}\\mbox{R} \\xrightarrow{a} 2 \\mbox{R}\\end{align}\n\nWe can think of $a$ as being the rate of reproduction of the rabbits, \nhow many baby rabbits an adult rabbit has per day. So, the rabbits grow \naccording to \n\n\\begin{align}:label: rabbitgrow\n\n   \\frac{dR}{dt} = a R\\end{align}\nThis equation denotes the rate of change of $R$ over time. \nthe top part of the fraction $dR$ denotes the change in rabbits, $R$, \nand the bottom part, $dt$, denotes the change in time, $t$. \n\n## Differentiation in school\n\nThis section is somewhat of an aside, but it might be useful if you have studied \ndifferentiation before. I remember that after learning about differentiation in school, I found the form of differential equations above\nto be a bit strange when I firstencountered it. In school we might have a function that looks like, for example,\n\n\\begin{align}:label: timeint\n\n   X(t) =  b t^2\\end{align}\n\n\nthen take the derivative to get \n\n\\begin{align}:label: timegrow\\end{align}\n \n   \\frac{dX}{dt} = 2 b t\n\nThis is also a differential equation. It says that the rate of change of $X$ over time\nis proportional to time. The difference between equation :eq:`timegrow` and \n:eq:`rabbitgrow` is that :eq:`timegrow` says that rabbits grow in proportion to time, while\n:eq:`rabbitgrow` says that rabbits grow proportionally to the number of rabbits. \n\nIn the case that\nrabbits grow in proportion to time, then we say that :eq:`timeint` is the solution to \nequation :eq:`timegrow` since it tells us how many rabbits there \nwill be at any point in time. As yet, we haven't found a solution to equation :eq:`rabbitgrow`.\n\nI think this is where differential equations can be a bit confusing, \nbecause in school we are usually given :eq:`timeint` and asked to find :eq:`timegrow`. \nFor most differential equations it is the other way round. We are given equation :eq:`rabbitgrow` \nand asked to find the the number of rabbits $R$ as a function of time. \n\nThe solution to equation :eq:`timegrow` is in fact,\n\n\\begin{align}:label: expint\n\n   R(t) =  \\exp(at)\\end{align}\n\nassuming that $R(0)=1$ \n(see [here](https://www.khanacademy.org/math/differential-equations/first-order-differential-equations/exponential-models-diff-eq/v/modeling-population-with-simple-differential-equation) for an explanation\nof how we get this solution). \n\nIn both these cases, we can find an explicit solution for $R(t)$ in terms of $t$. By explicit here\nI mean that if you tell me a value of $t$, I can put it in to :eq:`expint` and tell you the number of \nrabbits. It is not always the case that we can find an explicit solution. \nIndeed, for most differential equation models we can't find solutions of this form. \nThis is the case for the rabbits and foxes model which we now look at. We won't be able to \nfind an explicit mathematical expression for rabbits and foxes at any time, but we can understand \nthe dynamics of rabbits and foxes.\n\n\n## Back to rabbits anf foxes\n\nWe have an equation for growth of rabbits, now we need to have equations that include foxes. \nIn chemical reaction form these are,\n\n\\begin{align}\\mbox{F} +  \\mbox{R} \\xrightarrow{b}  2 \\mbox{F}\\end{align}\n\nfor foxes eating rabbits and\n\n\\begin{align}\\mbox{F}   \\xrightarrow{d}  \\mbox{D}\\end{align}\nfor foxes dying. Converted to differential equations, the rate of change for rabbits becomes\n\n\\begin{align}:label: rabbits\\end{align}\n \n   \\frac{dR}{dt} = \\underbrace{a R}_{\\mbox{R} \\xrightarrow{a} 2 \\mbox{R}} - \\underbrace{b R F}_{\\mbox{F} + \\mbox{R} \\xrightarrow{b} 2 \\mbox{F}}\n\nSimilarly, we can write the rate of change of foxes as \n\n\\begin{align}:label: foxes\\end{align}\n \n   \\frac{dF}{dt} =  \\underbrace{c R F}_{\\mbox{F} + \\mbox{R} \\xrightarrow{c} 2 \\mbox{F}} - \\underbrace{d F}_{\\mbox{F} \\xrightarrow{d} \\mbox{D}}\n\nNotice that we have a different rate parameter for the death of rabbits ($b$) \nthan for the birth of foxes ($c$). This is because\nit takes more than one rabbit to feed a fox and we set the parameters so that $c<b$.\n\nIt may seem strange to treat rabbits and foxes as chemicals.  \nAs we all know, two rabbits are needed to produce baby rabbits and when a fox eats a rabbit \nit doesn\u2019t simply transform it directly in to a new fox, as the chemical equation suggests. \nAlso, in the description above, the grass is not depleted: there is no chemical equation \ndescribing how grass is transformed to rabbit poop. But the point of a mathematical model \nlike this is not to be entirely realistic. Rather, it tries to capture the essence of the problem. \nWe want to imagine a big grassy meadow, where the more rabbits there are, the faster the rabbit \npopulation grows and the more foxes there are the faster the rabbits are eaten. We will try to \nunderstand this abstract problem first, before we make any claims about what happens to real \nrabbits and real foxes. \n\n\n## Simulating the model\n\nWe can use Python to run a numerical simulation of the model.\n"
      ]
    },
    {
      "cell_type": "code",
      "execution_count": null,
      "metadata": {
        "collapsed": false
      },
      "outputs": [],
      "source": [
        "# Import the libraries we use\nimport numpy as np\nimport matplotlib.pyplot as plt\nimport matplotlib\nfrom pylab import rcParams\nmatplotlib.font_manager.FontProperties(family='Helvetica',size=11)\nrcParams['figure.figsize'] = 14/2.54, 10/2.54\nfrom scipy import integrate"
      ]
    },
    {
      "cell_type": "markdown",
      "metadata": {},
      "source": [
        "We start by defining the model. This code creates a function \nwhich we can use to simulate differential equations :eq:`rabbits` and :eq:`foxes`.\n\n"
      ]
    },
    {
      "cell_type": "code",
      "execution_count": null,
      "metadata": {
        "collapsed": false
      },
      "outputs": [],
      "source": [
        "# Differential equation\ndef dXdt(X, t=0):\n    # Growth rate of fox and rabbit populations.\n    return np.array([ a*X[0]        - b*X[0]*X[1] ,      #Rabbits X[0] is R\n                      c*X[0]*X[1]   - d*X[1]])           #Foxes X[1] is F"
      ]
    },
    {
      "cell_type": "markdown",
      "metadata": {},
      "source": [
        "Next we define the parameter values. You can change these to see how\nchanges to the paramaters leads to changes in the outcome of the model. \n\n"
      ]
    },
    {
      "cell_type": "code",
      "execution_count": null,
      "metadata": {
        "collapsed": false
      },
      "outputs": [],
      "source": [
        "# Parameter values\na = 5\nb = 1\nc = 0.15\nd = 1"
      ]
    },
    {
      "cell_type": "markdown",
      "metadata": {},
      "source": [
        "Now we solve the equations numerically\n\n"
      ]
    },
    {
      "cell_type": "code",
      "execution_count": null,
      "metadata": {
        "collapsed": false
      },
      "outputs": [],
      "source": [
        "t = np.linspace(0, 20,  1000)               # time\nX0 = np.array([10, 2])                     # initially 10 rabbits and 2 foxes\nX = integrate.odeint(dXdt, X0, t)\nR, F = X.T\n\nfig,ax=plt.subplots(num=1)\nax.plot(t, R, '-',color='k', label='Rabbits (R)')\nax.plot(t, F  , '--',color='k', label='Foxes (F)')\nax.legend(loc='best')\nax.set_xlabel('Time: t')\nax.set_ylabel('Population')\nax.spines['top'].set_visible(False)\nax.spines['right'].set_visible(False)\nax.set_xticks(np.arange(0,12,step=1))\nax.set_yticks(np.arange(0,50,step=10))\nax.set_xlim(0,12)\nax.set_ylim(0,25) \nplt.show()"
      ]
    },
    {
      "cell_type": "markdown",
      "metadata": {},
      "source": [
        "First the rabbit populations grow, because there are only two foxes.\nBut this leads to an increase in foxes. Once the population of foxes is sufficiently\nlarge, they then start reducing rabbit populations and they die out. Then,\nwhen there are few rabbits left, the foxes start to die out too, allowing the rabbit \npopulation to grow again.\n\n\n.. admonition:: Think yourself!\n\n    Download the code and run it. Try changing the paramater values above. \n    Making $a$ larger, for example, means the rabbit population\n    grows faster.\n\n"
      ]
    },
    {
      "cell_type": "markdown",
      "metadata": {},
      "source": [
        "## Visualising the cycle\n\nIn the figure above, we show how foxes and rabbits change over time.\nWe can also plot how they change relative to each other (a so called phase plane). \nFor the numerical simulations we do this as follows:\n\n"
      ]
    },
    {
      "cell_type": "code",
      "execution_count": null,
      "metadata": {
        "collapsed": false
      },
      "outputs": [],
      "source": [
        "def plotPhasePlane(ax,R,F):\n    ax.plot(R, F, '-',color='k')\n    ax.set_xlabel('Rabbits: R')\n    ax.set_ylabel('Foxes: F')\n    ax.spines['top'].set_visible(False)\n    ax.spines['right'].set_visible(False)\n    ax.set_xticks(np.arange(0,30,step=5))\n    ax.set_yticks(np.arange(0,20,step=5))\n    ax.set_ylim(0,12)   \n    ax.set_xlim(0,30) \n    \n    \nfig,ax=plt.subplots(num=1)\nplotPhasePlane(ax,R,F)\nplt.show()"
      ]
    },
    {
      "cell_type": "markdown",
      "metadata": {},
      "source": [
        "## Finding the equilibrium\nIn order to better understand this cycle we look at\nthe equilibria (the steady states) where the rate at which rabbits are born equals the rate \nat which they die. We can find the rabbit equilibtirum by solving\n\n\\begin{align}\\frac{dR}{dt} = a R - b R F =0\\end{align}\n\ni.e. the number of rabbits does not change over time. This occurs either when \n$R=0$ (all the rabbits are dead) or when $F=a/b$ (when the number of\nfoxes is equal to the birth rate of rabbits divided by the rate at which \nfoxes eat rabbits).\n\nSimilarly, we can find the fox equilibtirum by solving\n\n\\begin{align}\\frac{dF}{dt} = c R F - d F =0\\end{align}\n\ni.e. the number of foxes does not change over time. This occurs either when \n$F=0$ (all the foxes are dead) or when $R=d/c$ (when the number of\nrabbits is equal to the death rate of foxes divided by the rate at which \nfoxes grow after eating rabbits).\n\nWe can now plot these equilibrium on the phase plane\n\n\n"
      ]
    },
    {
      "cell_type": "code",
      "execution_count": null,
      "metadata": {
        "collapsed": false
      },
      "outputs": [],
      "source": [
        "fig,ax=plt.subplots(num=1)\n#Plot the rabbit equilibrium\nax.plot([-100,100],[a/b,a/b],linestyle=':',color='k')\n#Plot the fox equilibrium\nax.plot([d/c,d/c],[-100,100],linestyle=':',color='k')\nplotPhasePlane(ax,R,F)"
      ]
    },
    {
      "cell_type": "markdown",
      "metadata": {},
      "source": [
        "We can draw arrows to indicate the direction of change. To\ndo this, we evaluate $dR/dt$ and $dF/dt$\nfor different values and plot them.\n\n"
      ]
    },
    {
      "cell_type": "code",
      "execution_count": null,
      "metadata": {
        "collapsed": false
      },
      "outputs": [],
      "source": [
        "x = np.linspace(1, 30 ,6)\ny = np.linspace(1, 12, 5)\nX , Y  = np.meshgrid(x, y)\ndX, dY = dXdt([X, Y]) \n#Make in to unit vectors. \nM = np.hypot(dX,dY)\ndX = dX/M\ndY = dY/M\n\nfig,ax=plt.subplots(num=1)\nax.quiver(X, Y, dX, dY, pivot='mid')\n#Plot the rabbit equilibrium\nax.plot([-100,100],[a/b,a/b],linestyle=':',color='k')\n#Plot the fox equilibrium\nax.plot([d/c,d/c],[-100,100],linestyle=':',color='k')\nplotPhasePlane(ax,R,F)"
      ]
    },
    {
      "cell_type": "markdown",
      "metadata": {},
      "source": [
        "## Parker describe's the cycle\n\nHere is how Professor Parker sums up what we have learnt in Santa Fe.\n\n<img src=\"file://../../images/lesson2/ParkerCycle.png\">\n\n"
      ]
    },
    {
      "cell_type": "markdown",
      "metadata": {},
      "source": [
        "## Describing the cycle\n\nAlthough we can't find an explicit solution to the \nLotka-Voltera model in terms of time, we can use a trick that Lotka \ndescribed in an article he wrote in `1920 <https://www.pnas.org/doi/full/10.1073/pnas.6.7.410to>`. \nBy dividing the rabbit equation by the fox equation he got \n\n\\begin{align}\\frac{dR}{dF} = \\frac{aR -bRF}{cRF - d F}\\end{align}\n\nWe can then rearrange this equation to get \n\n\\begin{align}\\left(c -d/R \\right) dR = \\left(a/F -b \\right) dF\\end{align}\n\nIntegrating both sides of this equation we get \n\n\\begin{align}cR -d\\log(R) = a \\log(F) - b F + C\\end{align}\n\nwhere $C$  is the constant of integration. This last equation tells us a relationship that \nmust always hold between rabbits and foxes. To understand what the relationship implies, \nimagine  the equation above was simply $Y+X=C$  instead. This would imply the total number of \nrabbits and foxes is equal to C=10. So, if $C=10$ then we could have $Y=3$ foxes and $X=7$ \nrabbits (because 3+7=10), \nor 6 foxes and 4 rabbits (because 6+4=10), but we couldn\u2019t have $Y=6$ foxes and $X=7$ rabbits (because 6+7\u226010). \nIn our case, the relationship in the equation is more complicated, involving logarithms, \nbut the idea is the same: for any particular value of C \nall values of $R$ and $F$ must obey the equation\n\n\\begin{align}C = cR + b F -d\\log(R) - a \\log(F)\\end{align}\n\nThis is the case for the cycle we created in our numerical solution above. Every point on\nthe predator-prey cycle fulfills the condition above.\n\nHere is how Lotka presented his result in the [original article](https://www.pnas.org/doi/full/10.1073/pnas.6.7.410to).\n\n<img src=\"file://../../images/lesson2/LotkaCurve.png\">\n\nWhile Lotka didn't have a computer to simulate the equations, he could see \nusing this argument that the cycles would remain finite. Neither the\nprey or predator populations would increase without bound.\n\n"
      ]
    }
  ],
  "metadata": {
    "kernelspec": {
      "display_name": "Python 3",
      "language": "python",
      "name": "python3"
    },
    "language_info": {
      "codemirror_mode": {
        "name": "ipython",
        "version": 3
      },
      "file_extension": ".py",
      "mimetype": "text/x-python",
      "name": "python",
      "nbconvert_exporter": "python",
      "pygments_lexer": "ipython3",
      "version": "3.9.15"
    }
  },
  "nbformat": 4,
  "nbformat_minor": 0
}