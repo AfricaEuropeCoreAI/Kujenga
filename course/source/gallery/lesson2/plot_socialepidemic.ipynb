{
  "cells": [
    {
      "cell_type": "code",
      "execution_count": null,
      "metadata": {
        "collapsed": false
      },
      "outputs": [],
      "source": [
        "%matplotlib inline"
      ]
    },
    {
      "cell_type": "markdown",
      "metadata": {},
      "source": [
        "\n\n# The social epidemic\n\nIn this section we go on to solve some more differential equations which describe rules of\ninteraction. Here I assume you have already worked through and understood \nthe section on `predator prey models<rabbitsandfoxes>`. \n\nIn the book I first introduce the SIR model of disease spread, by looking at infections.\n\n<img src=\"file://../../images/lesson2/Epidemic1.png\">\n\nThen I discuss recoveries.\n\n<img src=\"file://../../images/lesson2/Epidemic2.png\">\n\nLet's turn these rules of interaction in to differential equations and analyse how they describe\ndisease spread.\n\n\n## The SIR model\n  \nIn terms of differential equations, the rate of change of susceptible individuals is\n\n\\begin{align}:label: susc\\end{align}\n \n   \\frac{dS}{dt} = \\underbrace{-b S I }_{\\mbox{I} + \\mbox{S} \\xrightarrow{b} 2 \\mbox{I}}\n\nand the rate of change of infectives is \n\n\\begin{align}:label: infect\\end{align}\n \n   \\frac{dI}{dt} = \\underbrace{b S I }_{\\mbox{I} + \\mbox{S} \\xrightarrow{b} 2 \\mbox{I}} - \\underbrace{c I }_{\\mbox{I} \\xrightarrow{c} \\mbox{R}} \n\nThe constant $b$ is the rate of contact between people and $c$ is the rate of recovery.\nWe can also write down an equation for recovery as follows,\n\n\\begin{align}:label: recover\\end{align}\n \n   \\frac{dR}{dt} = \\underbrace{c I }_{\\mbox{I} \\xrightarrow{c} \\mbox{R}} \n\nIn this model $S$, $I$ and $R$ are proportions of the population. Summing them up gives $S+I+R=1$, since \neveryone in the popultaion is either susceptible, infective or recovered.\n\nLet's now solve these equations numerically. We start by importing the libraries we need from Python.\n"
      ]
    },
    {
      "cell_type": "code",
      "execution_count": null,
      "metadata": {
        "collapsed": false
      },
      "outputs": [],
      "source": [
        "import numpy as np\nimport matplotlib.pyplot as plt\nimport matplotlib\nfrom pylab import rcParams\nmatplotlib.font_manager.FontProperties(family='Helvetica',size=11)\nrcParams['figure.figsize'] = 9/2.54, 9/2.54\nfrom scipy import integrate"
      ]
    },
    {
      "cell_type": "markdown",
      "metadata": {},
      "source": [
        "Now we define the model. This code creates a function \nwhich we can use to simulate differential equations :eq:`susc` and :eq:`infect`. \nWe also define the parameter values. You can change these to see how\nchanges to the paramaters leads to changes in the outcome of the model. \n\n"
      ]
    },
    {
      "cell_type": "code",
      "execution_count": null,
      "metadata": {
        "collapsed": false
      },
      "outputs": [],
      "source": [
        "# Parameter values\nb = 3.5\nc = 1\n\n# Differential equation\ndef dXdt(X, t=0):\n    # Growth rate of fox and rabbit populations.\n    return np.array([  - b*X[0]*X[1] ,      #Susceptible X[0] is S\n                      b*X[0]*X[1]   - c*X[1],      #Infectives X[1] is I\n                      c*X[1]])                     #Recovered X[2] is R"
      ]
    },
    {
      "cell_type": "markdown",
      "metadata": {},
      "source": [
        "We solve the equations numerically and plot solution over time. \n\n"
      ]
    },
    {
      "cell_type": "code",
      "execution_count": null,
      "metadata": {
        "collapsed": false
      },
      "outputs": [],
      "source": [
        "def plotEpidemicOverTime(ax,S,I,R):\n\n    ax.plot(t, S, '-',color='k', label='Suceptible (S)')\n    ax.plot(t, I  , '--',color='k', label='Infectives (I)')\n    ax.plot(t, R  , '--',color='k', label='Recovered (R)')\n    ax.legend(loc='best')\n    ax.set_xlabel('Time: t')\n    ax.set_ylabel('Population')\n    ax.spines['top'].set_visible(False)\n    ax.spines['right'].set_visible(False)\n    ax.set_xticks(np.arange(0,20,step=2))\n    ax.set_yticks(np.arange(0,1.01,step=0.5))\n    ax.set_xlim(0,20)\n    ax.set_ylim(0,1) \n    \n\nt = np.linspace(0, 20,  1000)               # time\nX0 = np.array([0.9999, 0.0001,0.0000])      # initially 99.99% are uninfected\nX = integrate.odeint(dXdt, X0, t)           # uses a Python package to simulate the interactions\nS, I, R = X.T\nfig,ax=plt.subplots(num=1)\nplotEpidemicOverTime(ax,S,I,R)\nplt.show()\n\n# .. admonition:: Think yourself!\n#   \n#     When :math:`b=1`, for what values of :math:`c` does the number of infectives  \n#     always decrease? Try changing the initial number of infectives to :math:`0.5`.\n#     Now find values of :math:`c` where the number of infectives  \n#     always decreases?"
      ]
    },
    {
      "cell_type": "markdown",
      "metadata": {},
      "source": [
        "As with the  `precator prey model<rabbitsandfoxes>` we can find\nthe equilibria where the rate at which people become infected equals the \nrate at which they recover by solving\n\n\\begin{align}\\\\frac{dI}{dt} = b S I - c I =0\\end{align}\n\nThis occurs either when $I=0$ (no-one has the disease) or \nwhen $S=c/b$. We can now plot these equilibrium on the phase plane\n\n\n"
      ]
    },
    {
      "cell_type": "code",
      "execution_count": null,
      "metadata": {
        "collapsed": false
      },
      "outputs": [],
      "source": [
        "def plotPhasePlane(ax,S,I):\n    ax.plot(S, I, '-',color='k')\n    ax.set_xlabel('Susceptibles: S')\n    ax.set_ylabel('Infectives: I')\n    ax.spines['top'].set_visible(False)\n    ax.spines['right'].set_visible(False)\n    ax.set_xticks(np.arange(0,1.01,step=0.5))\n    ax.set_yticks(np.arange(0,1.01,step=0.5))\n    ax.set_ylim(0,1)   \n    ax.set_xlim(0,1) \n\ndef drawArrows(ax,dXdt):\n    x = np.linspace(0.05, 1 ,6)\n    y = np.linspace(0.05, 1, 6)\n    X , Y  = np.meshgrid(x, y)\n    dX, dY, dZ = dXdt([X, Y,1-X-Y]) \n    #Make in to unit vectors. \n    M = np.hypot(dX,dY)\n    dX = dX/M\n    dY = dY/M\n    ax.quiver(X, Y, dX, dY, pivot='mid')\n\nfig,ax=plt.subplots(num=1)\nax.plot([c/b,c/b],[-100,100],linestyle=':',color='k')\nplotPhasePlane(ax,S,I)\ndrawArrows(ax,dXdt)\nplt.show()"
      ]
    },
    {
      "cell_type": "markdown",
      "metadata": {},
      "source": [
        "The solution to $S=c/b$ is known as herd immunity. When $S>c/b$ \nthen the number of infectives increase. So when $S=0.9999$ then if\n$b>0.9999c$ then the infection increases and when \n$b<0.9999c$ then the infection decreases. Simiarly, when $S=0.5$then if\n$b>0.5c$ then the infection increases and it decreases when \n$b<0.5c$.\n\n"
      ]
    },
    {
      "cell_type": "markdown",
      "metadata": {},
      "source": [
        "## Social recovery\nFor many social behaviours, it isn\u2019t just the adoption of a fad or a news cycle that \nis contagious, but also the way in which we recover. When we get a cold, flu or Covid-19, \nthe best thing to do is to go home, rest and not spread the virus. Spending time with people \nwho have already been ill doesn\u2019t help us recover more quickly (even if their sympathy might \nhelp us feel a bit better). Recovery is independent between individuals. In the book, I look at\nsocial recovery, when it depends on how many are recovered.\n\n<img src=\"file://../../images/lesson2/SocialEpidemic.png\">\n\nIn terms of differential equations, the rate of change of susceptible individuals \nremains the same as before\n\n\\begin{align}\\frac{dS}{dt} = \\underbrace{-b S I }_{\\mbox{I} + \\mbox{S} \\xrightarrow{b} 2 \\mbox{I}}\\end{align}\n\nbut the rate of change of infectives is now\n\n\\begin{align}\\frac{dI}{dt} = \\underbrace{b S I }_{\\mbox{I} + \\mbox{S} \\xrightarrow{b} 2 \\mbox{I}} - \\underbrace{c I }_{\\mbox{I} \\xrightarrow{c} \\mbox{R}} - \\underbrace{d I R }_{\\mbox{I} + \\mbox{R}  \\xrightarrow{d} 2 \\mbox{R}}\\end{align}\n\nThe constant $b$ is the rate of contact between people and $c$ is the rate of contact between infectives and recovered individuals.\nWe can also write down an equation for recovery as follows,\n\n\\begin{align}\\frac{dR}{dt} = \\underbrace{c I }_{\\mbox{I} \\xrightarrow{c} \\mbox{R}} + \\underbrace{d I R }_{\\mbox{I} + \\mbox{R}  \\xrightarrow{d} 2 \\mbox{R}}\\end{align}\n\nIn Python these equations are written as follows.\n\n"
      ]
    },
    {
      "cell_type": "code",
      "execution_count": null,
      "metadata": {
        "collapsed": false
      },
      "outputs": [],
      "source": [
        "# Parameter values\nb = 3.5\nc = 1\nd = 1\n\n# Differential equation\ndef dXdt(X, t=0):\n    # Growth rate of fox and rabbit populations.\n    return np.array([  - b*X[0]*X[1] ,      #Susceptible X[0] is S\n                      b*X[0]*X[1]   - c*X[1] - d*X[1]*X[2],      #Infectives X[1] is I\n                      c*X[1] + d*X[1]*X[2]])                     #Recovered X[2] is R\n\nt = np.linspace(0, 20,  1000)               # time\nX0 = np.array([0.9999, 0.0001,0.0000])      # initially 99.99% are uninfected\nX = integrate.odeint(dXdt, X0, t)           # uses a Python package to simulate the interactions\nS, I, R = X.T\nfig,ax=plt.subplots(num=1)\nplotEpidemicOverTime(ax,S,I,R)\nplt.show()"
      ]
    },
    {
      "cell_type": "markdown",
      "metadata": {},
      "source": [
        "Again, we can find the equilibria where the rate at which people become infected equals the \nrate at which they recover by solving\n\n\\begin{align}\\frac{dI}{dt} = b S I - c I - d I (1- S -I) =0\\end{align}\n\nThis occurs either when $I=0$ (no-one has the disease) or \n\nwhen \n\n\\begin{align}b S I = c I + d I - d S I - dI^2\\end{align}\n\n\nor, equivalently,\n\n\\begin{align}(b + d) SI = (c+d) I  - d I^2\\end{align}\n\nor\n\\begin{align}S = \\frac{c+d}{b+d} - \\frac{d}{b+d} I\\end{align}\n\nWe can now plot these equilibrium on the phase plane\n\n\n"
      ]
    },
    {
      "cell_type": "code",
      "execution_count": null,
      "metadata": {
        "collapsed": false
      },
      "outputs": [],
      "source": [
        "I_equilibrium = np.linspace(0, 1,  1000)               \nS_equilibrium = (c+d)/(b+d) - (d/(b+d))*I_equilibrium     \n\nfig,ax=plt.subplots(num=1)\nax.plot(S_equilibrium,I_equilibrium,linestyle=':',color='k')\nplotPhasePlane(ax,S,I)\n\nX0 = np.array([0.6999, 0.0001,0.3])      # initially 99.99% are uninfected\nX = integrate.odeint(dXdt, X0, t)           # uses a Python package to simulate the interactions\nS, I, R = X.T\nplotPhasePlane(ax,S,I)\n\ndrawArrows(ax,dXdt)\n\nplt.show()"
      ]
    },
    {
      "cell_type": "markdown",
      "metadata": {},
      "source": [
        "## Examples of social epidemics\n\nThe following references describe social contagion using models similar to the one we \nhave seen in this section to explain donations, laughter, applause, dog breeds, smoking, alchohol usage\nand even divorce.\n\n[Frank Schweitzer and Robert Mach, \u2018The epidemics of donations: logistic growth\nand power-laws\u2019, PLoS One 3, no. 1 (2008): e1458](https://journals.plos.org/plosone/article?id=10.1371/journal.pone.0001458)\n\n[Sarah Seewoester Cain, \u2018When laughter fades: individual participation during open-mic comedy performances\u2019, PhD dissertation, Rice Univer- sity, 2018](https://scholarship.rice.edu/bitstream/handle/1911/105806/CAIN-DOCUMENT-2018.pdf?sequence=1)\n\n[Richard P. Mann et al., \u2018The dynamics of audience applause\u2019, Journal of the Royal Society Interface 10, no. 85 (2013): 20130466](https://royalsocietypublishing.org/doi/full/10.1098/rsif.2013.0466)\n\n[Harold Herzog, \u2018Forty-two thousand and one Dalmatians: fads, social contagion, and dog breed popularity\u2019, Society and Animals 14, no. 4 (2006): 383\u201297](https://brill.com/downloadpdf/journals/soan/14/4/article-p383_3.pdf?casa_token=C2H6lT2hut4AAAAA:qyexw8uGG1Iip3pXxKQoBp5CFLP3AGnkh0W95xiRbKB7aOkcJiTITcvDWPWJdbKvAgc2i74)\n\n[Nicholas A. Christakis, and James H. Fowler, \u2018Social contagion theory: examining dynamic social networks and human behavior\u2019, Statistics in Medicine 32, no. 4 (2013): 556\u201277](https://citeseerx.ist.psu.edu/document?repid=rep1&type=pdf&doi=0e249d965290fc3c6dd0cf264a002946d7e10dea)\n\n[Yvonne Aberg, \u2018The contagiousness of divorce\u2019, The Oxford Handbook of Analytical Sociology (2009): 342\u201264](https://academic.oup.com/edited-volume/38173/chapter-abstract/333033850?redirectedFrom=fulltext)\n\n.. admonition:: Think yourself!\n\n    What aspects of your interactions with others do you think are dominated by social contagion?\n    Write a short list and think back to it next time you find yourself caught up in the crowd.\n    Social contagion can be a force for both good and bad.  \n\n"
      ]
    }
  ],
  "metadata": {
    "kernelspec": {
      "display_name": "Python 3",
      "language": "python",
      "name": "python3"
    },
    "language_info": {
      "codemirror_mode": {
        "name": "ipython",
        "version": 3
      },
      "file_extension": ".py",
      "mimetype": "text/x-python",
      "name": "python",
      "nbconvert_exporter": "python",
      "pygments_lexer": "ipython3",
      "version": "3.9.15"
    }
  },
  "nbformat": 4,
  "nbformat_minor": 0
}