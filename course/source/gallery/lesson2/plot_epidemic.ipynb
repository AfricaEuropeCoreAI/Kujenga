{
  "cells": [
    {
      "cell_type": "markdown",
      "metadata": {},
      "source": [
        "\n\n# The SIR model\n  \nIn the SIR model, the rate of change of susceptible individuals is\n\n\\begin{align}:label: susc\\end{align}\n \n   \\frac{dS}{dt} = -\\beta S I \n\nand the rate of change of infectives is \n\n\\begin{align}:label: infect\\end{align}\n \n   \\frac{dI}{dt} = \\beta S I - \\gamma I\n\nThe constant $b$ is the rate of contact between people and $c$ is the rate of recovery.\nWe can also write down an equation for recovery as follows,\n\n\\begin{align}:label: recover\\end{align}\n \n   \\frac{dR}{dt} = \\gamma I\n\nIn this model $S$, $I$ and $R$ are proportions of the population. Summing them up gives $S+I+R=1$, since \neveryone in the popultaion is either susceptible, infective or recovered.\n\nLet's now solve these equations numerically. We start by importing the libraries we need from Python.\n"
      ]
    },
    {
      "cell_type": "code",
      "execution_count": null,
      "metadata": {
        "collapsed": false
      },
      "outputs": [],
      "source": [
        "import numpy as np\nimport matplotlib.pyplot as plt\nimport matplotlib\nfrom pylab import rcParams\nmatplotlib.font_manager.FontProperties(family='Helvetica',size=11)\nrcParams['figure.figsize'] = 9/2.54, 9/2.54\nfrom scipy import integrate"
      ]
    },
    {
      "cell_type": "markdown",
      "metadata": {},
      "source": [
        "Now we define the model. This code creates a function \nwhich we can use to simulate differential equations :eq:`susc` and :eq:`infect`. \nWe also define the parameter values. You can change these to see how\nchanges to the paramaters leads to changes in the outcome of the model. \n\nInvestigate yourself what happens when $b=1/3, 1/6, 1/10$.\n\n"
      ]
    },
    {
      "cell_type": "code",
      "execution_count": null,
      "metadata": {
        "collapsed": false
      },
      "outputs": [],
      "source": [
        "# Parameter values\nbeta = 1/2\ngamma = 1/7\n\n# Differential equation\ndef dXdt(X, t=0):\n    return np.array([  - beta*X[0]*X[1] ,              #Susceptible X[0] is S\n                      beta*X[0]*X[1]   - gamma*X[1],       #Infectives X[1] is I\n                      gamma*X[1]])                      #Recovered X[2] is R"
      ]
    },
    {
      "cell_type": "markdown",
      "metadata": {},
      "source": [
        "We solve the equations numerically and plot solution over time. \n\n"
      ]
    },
    {
      "cell_type": "code",
      "execution_count": null,
      "metadata": {
        "collapsed": false
      },
      "outputs": [],
      "source": [
        "def plotEpidemicOverTime(ax,t,S,I,R):\n\n    ax.plot(t, S, '--',color='k', label='Suceptible (S)')\n    ax.plot(t, I  , '-',color='k', label='Infectives (I)')\n    ax.plot(t, R  , ':',color='k', label='Recovered (R)')\n    ax.legend(loc='best')\n    ax.set_xlabel('Time: t')\n    ax.set_ylabel('Population')\n    ax.spines['top'].set_visible(False)\n    ax.spines['right'].set_visible(False)\n    ax.set_xticks(np.arange(0,100,step=10))\n    ax.set_yticks(np.arange(0,1.01,step=0.5))\n    ax.set_xlim(0,100)\n    ax.set_ylim(0,1) \n    \n\nt = np.linspace(0, 100,  1000)               # time\nX0 = np.array([0.9999, 0.0001,0.0000])      # initially 99.99% are uninfected\nX = integrate.odeint(dXdt, X0, t)           # uses a Python package to simulate the interactions\nS, I, R = X.T\nfig,ax=plt.subplots(num=1)\nplotEpidemicOverTime(ax,t,S,I,R)\nplt.show()"
      ]
    },
    {
      "cell_type": "markdown",
      "metadata": {},
      "source": [
        "# Phase Planes\nIn this section, Emily introduces the concept of **phase planes** in the video below, \nusing the SIR model as an example.\n\n.. youtube:: oYcNqe9KlDk\n    :width: 100%\n    :align: center\n\nThe material that follows recaps what is covered in the video, with supporting code \nand explanations to help you explore phase planes for yourself.\n\n## What are Phase Planes, and Why Do We Use Them?\nPhase planes provide a powerful visualization method for dynamic systems.\nInstead of observing each variable separately over time, phase planes plot one variable\nagainst another. In our case, a common representation for the SIR model is the interaction \nbetween the Susceptible (S) and Infected (I) groups. This is used both the video, and\nfurther below in the code examples.\n\nThis visualization allows us to better understand complex system behaviors, such as:\n\n- The spread of disease over time\n- Stabilization points (equilibrium)\n- The eventual decline or extinction of an epidemic\n\nPhase planes highlight crucial relationships, equilibrium points, and system behavior\nthat can inform predictions about the long-term outcomes of an epidemic.\n\n## Key Components of Phase Planes\nTo fully understand phase planes, let\u2019s examine their key components:\n\n**Axes**:\n    The axes of a phase plane represent the system variables, which is Susceptible (S) and Infected (I) in this case.\n    By plotting one variable against another, we can see how these groups interact directly, rather than just observing \n    their individual changes over time.\n\n**Trajectories**:\n    Trajectories portray the state of the system as it evolves. \n    For the SIR model in particular, the trajectory describes how the numbers of susceptible and infected individuals change in relation \n    to one another as the epidemic progresses over time.\n\n**Directional Arrows**:\n    These arrows on the phase plane indicate the direction of movement over time, showing how the system transitions between states.\n    They guide us through the epidemic's progression, pointing from higher susceptibility toward states of greater infection or recovery.\n\nBelow is the first example of a phase plane showing how the SIR system evolves over time, \nwith Susceptible (S) on the x-axis and Infected (I) on the y-axis. \n\n"
      ]
    },
    {
      "cell_type": "code",
      "execution_count": null,
      "metadata": {
        "collapsed": false
      },
      "outputs": [],
      "source": [
        "beta = 1/2\ngamma = 1/7\n\ndef plotPhasePlane(ax,S,I):\n    ax.plot(S, I, '-',color='k')\n    ax.set_xlabel('Susceptibles: S')\n    ax.set_ylabel('Infectives: I')\n    ax.spines['top'].set_visible(False)\n    ax.spines['right'].set_visible(False)\n    ax.set_xticks(np.arange(0,1.01,step=0.5))\n    ax.set_yticks(np.arange(0,1.01,step=0.5))\n    ax.set_ylim(0,1)   \n    ax.set_xlim(0,1) \n\ndef drawArrows(ax,dXdt):\n    x = np.linspace(0.05, 1 ,6)\n    y = np.linspace(0.05, 1, 6)\n    X , Y  = np.meshgrid(x, y)\n    dX, dY, dZ = dXdt([X, Y,1-X-Y]) \n    #Make in to unit vectors. \n    M = np.hypot(dX,dY)\n    dX = dX/M\n    dY = dY/M\n    ax.quiver(X, Y, dX, dY, pivot='mid')\n\nfig,ax=plt.subplots(num=1)\nplotPhasePlane(ax,S,I)\ndrawArrows(ax,dXdt)\nplt.tight_layout()\nplt.show()"
      ]
    },
    {
      "cell_type": "markdown",
      "metadata": {},
      "source": [
        "## Equilibrium Points and Nullclines\nOne essential element of phase planes is the determination of equilibrium points. These \npoints occur where the rates of change for both Susceptible (S) and Infected (I) are zero. \nThe lines where the rate of change of a variable is equal to zero are called **nullclines**.\nThe intersection of these nullclines determines the equilibrium points, which are \ncrucial to understanding how an epidemic evolves. \n\nSimilar to the `predator prey model<rabbitsandfoxes>`, we can find the equilibria for the infected population, where the rate at which \npeople become infected equals the rate at which they recover. This is done by solving:\n\n\\begin{align}\\frac{dI}{dt} = \\beta S I - \\gamma I = 0\\end{align}\n\nThis occurs either when $I=0$ (no one has the disease) or \nwhen $S=\\gamma/\\beta$.\n\nFor the susceptible population:\n\n\\begin{align}\\frac{dS}{dt} = -\\beta S I = 0\\end{align}\n\nwhich simplifies to $I = 0$ or $S = 0$. These resultant values are all nullclines\nof this system.\n\nWe can now plot the nullcline $S=\\gamma/\\beta$ on the phase plane:\n\n"
      ]
    },
    {
      "cell_type": "code",
      "execution_count": null,
      "metadata": {
        "collapsed": false
      },
      "outputs": [],
      "source": [
        "import numpy as np\nimport matplotlib.pyplot as plt\nfrom scipy.integrate import odeint\n\n# Parameters\nbeta = 1/2\ngamma = 1/7\n\n# Integrate the system\nt = np.linspace(0, 100, 1000)\nX0 = np.array([0.9999, 0.0001, 0.0000])\nX = integrate.odeint(dXdt, X0, t)\nS, I, R = X.T\n\nfig,ax=plt.subplots(num=1)\n# Include nullcline\nax.plot([gamma/beta,gamma/beta],[-100,100],linestyle=':',color='k')\nplotPhasePlane(ax,S,I)\ndrawArrows(ax,dXdt)\nplt.tight_layout()\nplt.show()"
      ]
    },
    {
      "cell_type": "markdown",
      "metadata": {},
      "source": [
        "Now, we can see that this nullcline passes through the trajectory at its peak. \nThis is because the rate of change of infections ($\\frac{dI}{dt}$) becomes zero when $S=\\gamma/\\beta$, \nand the number of infected individuals reaches the maximum value possible for the system. \nThis visual insight helps us understand how the number of infections evolves over time, \nand the nullclines highlight important thresholds in disease spread.\nThe effects of interventions, such as vaccination or changes in contact rates can also be\nvisualised in this way, by showing how they might shift the trajectory or alter the nullclines.\n\n## Impact of Parameters\nNow, we can investigate what happens to the phase planes when we change the\nvalues of $\\beta$ and $\\gamma$. In our previous code examples, the\n$\\beta$ value was $\\frac{1}{2}$, which is the rate of contact between people,\nor transmission rate. What do you think will happen to the phase plane trajectory \nif we increase this value? How will the nullcline be impacted?\nYou can change the \"beta\" value in the code block to test your hypothesis.\n\nAnswer:\n\n"
      ]
    },
    {
      "cell_type": "markdown",
      "metadata": {},
      "source": [
        ".. toggle:: Click to expand explanation\n\n   As $\\beta$ increases, the infection rate becomes faster, which means the disease \n   spreads more quickly. This leads to a faster rise in the number of infected individuals, \n   and the trajectory in the phase plane will become steeper. The peak of the trajectory will \n   also become higher, as more individuals get infected more quickly before reaching the recovery phase.\n\n   The nullcline, which represents the point where the rate of change of infected individuals is zero \n   (i.e., where the number of infections and recoveries are balanced), shifts to the left as \n   $\\beta$ increases. This indicates that, for a higher transmission rate, fewer susceptible \n   individuals remain in the population when the epidemic reaches equilibrium. Essentially, a larger \n   number of people are infected earlier, so there are fewer susceptible individuals left when the \n   system reaches a stable state.\n\n"
      ]
    },
    {
      "cell_type": "markdown",
      "metadata": {},
      "source": [
        "Similarly, the $\\gamma$ value was set to $\\frac{1}{7}$, representing the recovery\nrate. What happens to the trajectory and nullcline for the phase plane when this value \nis increased?\n\nAnswer:\n\n"
      ]
    },
    {
      "cell_type": "markdown",
      "metadata": {},
      "source": [
        ".. toggle:: Click to expand explanation\n\n   A flatter trajectory and a lower peak (due to quicker recovery) will be observed. In addition, the nullcline shifts to the right, \n   indicating a higher number of susceptible individuals at equilibrium. \n\n   This is because the quicker recovery of individuals causes the epidemic to peak and decline more quickly, \n   leaving a larger proportion of the population susceptible at the point of equilibrium.\n\n"
      ]
    },
    {
      "cell_type": "markdown",
      "metadata": {},
      "source": [
        "Additional questions:\n\n- When a high $\\gamma$ or low $\\beta$ value is used, the trajectory does not return to the x-axis after peaking. Why might this be happening?\n- We have been initialising the models with 99.99\\% of the population as susceptible, and only 0.01\\% infected. How are the phase planes affected when changing this proportion?\n"
      ]
    }
  ],
  "metadata": {
    "kernelspec": {
      "display_name": "Python 3",
      "language": "python",
      "name": "python3"
    },
    "language_info": {
      "codemirror_mode": {
        "name": "ipython",
        "version": 3
      },
      "file_extension": ".py",
      "mimetype": "text/x-python",
      "name": "python",
      "nbconvert_exporter": "python",
      "pygments_lexer": "ipython3",
      "version": "3.13.3"
    }
  },
  "nbformat": 4,
  "nbformat_minor": 0
}