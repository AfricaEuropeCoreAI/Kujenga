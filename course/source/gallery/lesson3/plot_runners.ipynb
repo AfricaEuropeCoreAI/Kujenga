{
  "cells": [
    {
      "cell_type": "code",
      "execution_count": null,
      "metadata": {
        "collapsed": false
      },
      "outputs": [],
      "source": [
        "%matplotlib inline"
      ]
    },
    {
      "cell_type": "markdown",
      "metadata": {},
      "source": [
        "\n\n# What you will learn\n\n## The problem\n\nAre Ethipian or Kenyan runners the best in the world? This is a question that has been asked many times.\nIn this lesson we will learn how to test a hypothesis using data. \n\n## The methods\n\nWe will learn how to plot a histogram and how to use a statistical test (t-test) to compare two means. \nFor more information on the type of test we will look at see `here https://www.khanacademy.org/math/statistics-probability/significance-tests-one-sample`_. \n\n\n## How to use this material\n\nThis material is taught as part of a 6 hour learning session. Your Kujenga instructor will have booked \na time for an in-person or online two hour session. This means you have two hours to work to do either side of the\nsession. Here is what you should do:\n\n*Before coming to the class*: You should read through this entire page. At the section on calculating a confidence interval\nfor a mean. If you get stuck look \n[here](https://www.khanacademy.org/math/statistics-probability/confidence-intervals-one-sample/estimating-population-mean/v/introduction-to-t-statistics). \nAfter that section you should simply read through and try to understand what we are doing. \n\nOnce you have read through, you should \ndownload this page as a Jupyter notebook or as Python code by clicking the links at the bottom of this page.\nYou will need to have a Python environment set up on your computer or access via Google Colab (see here for\n info on how to set that up). Please make sure you have the notebook and a Python environment set up before the class.\n\n *During class*: Your teacher will start by going through the theory for `the t-test`_. \n Please ask them questions and actively engage! \n\n# Working with data\n\n\n## Loading in the data set\n"
      ]
    },
    {
      "cell_type": "code",
      "execution_count": null,
      "metadata": {
        "collapsed": false
      },
      "outputs": [],
      "source": [
        "import random\nimport pickle\nimport math\nimport numpy as np\n\n# Load in times of runners\n\n#with open('course/lessons/data/runners.pkl', 'rb') as f:\n\n\n# Plot a histogram of the data"
      ]
    },
    {
      "cell_type": "markdown",
      "metadata": {},
      "source": [
        "# Calculating a confidence interval for a mean\n\n Calculation by hand\n -------------------\n\n Calculate by hand the confidence interval for the mean of the following times for 10000m runners from Kenya:\n\n U\n\n\n\n\n Calculatation using Python\n --------------------------\n\n\n"
      ]
    },
    {
      "cell_type": "code",
      "execution_count": null,
      "metadata": {
        "collapsed": false
      },
      "outputs": [],
      "source": [
        "a=1\n\n# Now for Ethiopian runners\n# -------------------------\n#\n# Here the person should do themselves.\n#"
      ]
    },
    {
      "cell_type": "markdown",
      "metadata": {},
      "source": [
        "# A statistical test\n\n"
      ]
    },
    {
      "cell_type": "code",
      "execution_count": null,
      "metadata": {
        "collapsed": false
      },
      "outputs": [],
      "source": [
        "b=2\n\n#\n#  We will follow test `here https://www.khanacademy.org/math/statistics-probability/significance-tests-one-sample`_."
      ]
    }
  ],
  "metadata": {
    "kernelspec": {
      "display_name": "Python 3",
      "language": "python",
      "name": "python3"
    },
    "language_info": {
      "codemirror_mode": {
        "name": "ipython",
        "version": 3
      },
      "file_extension": ".py",
      "mimetype": "text/x-python",
      "name": "python",
      "nbconvert_exporter": "python",
      "pygments_lexer": "ipython3",
      "version": "3.9.15"
    }
  },
  "nbformat": 4,
  "nbformat_minor": 0
}