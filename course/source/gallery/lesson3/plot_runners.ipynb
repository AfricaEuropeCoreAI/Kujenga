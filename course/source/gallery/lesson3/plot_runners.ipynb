{
  "cells": [
    {
      "cell_type": "markdown",
      "metadata": {},
      "source": [
        "\n\n# What you will learn\n\n## The problem\n\nAre Ethipian or Kenyan runners the best in the world? This is a question that has been asked many times.\nIn this lesson we will learn how to test a hypothesis using data. \n\n## The methods\n\nWe will learn how to plot a histogram and how to use a statistical test (t-test) to compare two means. \nFor more information on the type of test we will look at see `here https://www.khanacademy.org/math/statistics-probability/significance-tests-one-sample`_. \n\n\n## How to use this material\n\nThis material is taught as part of a 6 hour learning session. Your Kujenga instructor will have booked \na time for an in-person or online two hour session. This means you have two hours to work to do either side of the\nsession. Here is what you should do:\n\n*Before coming to the class*: You should read through this entire page. At the section on calculating a confidence interval\nfor a mean. If you get stuck look \n[here](https://www.khanacademy.org/math/statistics-probability/confidence-intervals-one-sample/estimating-population-mean/v/introduction-to-t-statistics). \nAfter that section you should simply read through and try to understand what we are doing. \n\nOnce you have read through, you should \ndownload this page as a Jupyter notebook or as Python code by clicking the links at the bottom of this page.\nYou will need to have a Python environment set up on your computer or access via Google Colab (see here for\n info on how to set that up). Please make sure you have the notebook and a Python environment set up before the class.\n\n *During class*: Your teacher will start by going through the theory for `the t-test`_. \n Please ask them questions and actively engage! \n"
      ]
    },
    {
      "cell_type": "markdown",
      "metadata": {},
      "source": [
        "# Mathematically proving if the Kenyan runners are faster than the Ethiopian runners\n\nIn order to establish if the Kenyan runners are faster than the Ethiopian runners. We will need to carry out a t-test.\nA t-test is a statistical analysis tool that will tell you if two groups are statistically different. That the difference observed is not by chance.\nIn order to carry out a t-test, we need to have set an hypothesis that we will be testing. We need to set both the null and the alternate hypothesis.\n\n# The null hypothesis\n\nThe null hypothesis is the default assumption that states, there is no difference. In this case the null hypothesis wil be\n\"There is no difference between the Kenyan 10000m women runners with the Ethiopian 10000m women runners \". The null hypothesis \nis usually denoted as h0.\n\n# The alternate hypothesis\n\nThe alternate hypothesis is what you want to prove, which suggests a difference in the groups being tested. In this case our alternate hypothesis is\n\"Kenyan 10000m women runners are faster than the Ethiopian 10000m runners\"\n\nTo calculate carry out a t-test you need to first to\n\n1. Calculate the t-statistic\n\n2. Set the confidence level\n\n3. Critical value\n\n4. Degrees of freedom\n\n# Calculating the t-statistic\n\nThe formule for calculating the t-statistic is as follows\n\n\\begin{align}t = \\frac{\\bar{x}_1 - \\bar{x}_2}{\\sqrt{\\left( \\frac{s_1^2 }{n_1} + \\frac{s_2^2 }{n_2} \\right)}}\\end{align}\n\n\n\n# Culculating the means\n\nThe formulae for the mean is the summation of all the values divided by the total number of the values. This is expressed mathematically as follows;\n\n\\begin{align}\\bar{x} = \\frac{1}{n} \\sum_{i=1}^{n} x_i\\end{align}\n\n# The significance level\n\nThe significance level is the measure of the stregth of the evidence that must be in your sample for you to reject the null hypothesis.\nThe significance level will help you make the conclusion that there is a statistical difference between the two groups.\nThe significance level indicates the probability of rejecting the null hypothesis when it is true. For example a significance level\nof 0.05 indicates that there is a 5% risk of rejecting the null hypothesis when it is true. The lower the significance level the stronger \nthe evidence required to reject the null hypothesis. Significance levels are set by the researchers prior to testing the hypothesis.\n\n# The critical value\n\nThe critical value is the threshold that is used to determine whether you will reject or accept the null hypothesis. \nIt's the value that defines the boundary between the region where the null hypothesis is likely true and the region \nwhere it's likely false. \n\nThe critical value is based on the significance level that has been set and the type of test. It is usually culculated using \na statistical table or a culculator. For a one tailed test, there is usually one critical value and for the two tailed tests, there\nare two critical values indicating the two extremes where the null hypothesis is to be rejected. If the t-statistic falls in the \ncritical value region, you reject the null hypothesis.\n\n# Calculating t-test by hand.\nIn this video Selina is going to demostrate to you how to calculate the t-statistic by hand\n\n.. youtube:: 5p8jcxIs4CA\n    :width: 100%\n    :align: center \n\n\n\n"
      ]
    },
    {
      "cell_type": "code",
      "execution_count": null,
      "metadata": {
        "collapsed": false
      },
      "outputs": [],
      "source": [
        "import random\nimport pickle\nimport math\nimport numpy as np\n#\n# Load in times of runners\n#\n#with open('course/lessons/data/runners.pkl', 'rb') as f:\n#\n#"
      ]
    },
    {
      "cell_type": "markdown",
      "metadata": {},
      "source": [
        "# Carrying out a t-test using python\n\nIn this video Beimet is demonstrating how to carry out a t-test using python libraries\n\n.. youtube:: kE8KCy1ErWE\n    :width: 100%\n    :align: center \nPlot a histogram of the data\n\n"
      ]
    },
    {
      "cell_type": "markdown",
      "metadata": {},
      "source": [
        "# Calculating a confidence interval for a mean\n\n Calculation by hand\n -------------------\n\n Calculate by hand the confidence interval for the mean of the following times for 10000m runners from Kenya:\n\n U\n\n\n\n\n Calculatation using Python\n --------------------------\n\n\n"
      ]
    },
    {
      "cell_type": "code",
      "execution_count": null,
      "metadata": {
        "collapsed": false
      },
      "outputs": [],
      "source": [
        "a=1\n\n# Now for Ethiopian runners\n# -------------------------\n#\n# Here the person should do themselves.\n#"
      ]
    },
    {
      "cell_type": "markdown",
      "metadata": {},
      "source": [
        "# A statistical test\n\n"
      ]
    },
    {
      "cell_type": "code",
      "execution_count": null,
      "metadata": {
        "collapsed": false
      },
      "outputs": [],
      "source": [
        "b=2\n\n#\n#  We will follow test `here https://www.khanacademy.org/math/statistics-probability/significance-tests-one-sample`_."
      ]
    }
  ],
  "metadata": {
    "kernelspec": {
      "display_name": "Python 3",
      "language": "python",
      "name": "python3"
    },
    "language_info": {
      "codemirror_mode": {
        "name": "ipython",
        "version": 3
      },
      "file_extension": ".py",
      "mimetype": "text/x-python",
      "name": "python",
      "nbconvert_exporter": "python",
      "pygments_lexer": "ipython3",
      "version": "3.11.7"
    }
  },
  "nbformat": 4,
  "nbformat_minor": 0
}