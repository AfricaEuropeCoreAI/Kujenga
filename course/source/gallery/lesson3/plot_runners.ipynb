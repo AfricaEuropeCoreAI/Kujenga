{
  "cells": [
    {
      "cell_type": "code",
      "execution_count": null,
      "metadata": {
        "collapsed": false
      },
      "outputs": [],
      "source": [
        "%matplotlib inline"
      ]
    },
    {
      "cell_type": "markdown",
      "metadata": {},
      "source": [
        "\n\n# What you will learn\n\n## The problem\n\nAre Ethipian or Kenyan runners the best in the world? This is a question that has been asked many times.\nIn this lesson we will learn how to test a hypothesis using data. \n\n## The methods\n\nWe will learn how to plot a histogram and how to use a statistical test (t-test) to compare two means.\n\n\n## How to use this material\n\nThis material is taught as part of a 6 hour learning session. Your Juenga instructor will have booked \na time for an in-person or online two hour session. This means you have two hours to work to do either side of the\nsession. Here is what you should do:\n\n*Before coming to the class*: You should read through this entire page. At the section on plotting data, try to \ncreate a histogram before coming to class. If you get stuck look [here](LINK NEEDED)), but otherwise you should \nsimply read through and try to understand what we are doing. Once you have read through, you should \ndownload this page as a Jupyter notebook or as Python code by clicking the links at the bottom of this page.\nYou will need to have a Python environment set up on your computer or access via Google Colab (see here for\n info on how to set that up). ...\n\n *During class*: Your teacher will start by going through the theory for `the t-test`_. \n Please ask them questions and actively engage! \n\n# Working with data\n\n\n## Loading in the data set\n"
      ]
    },
    {
      "cell_type": "code",
      "execution_count": null,
      "metadata": {
        "collapsed": false
      },
      "outputs": [],
      "source": [
        "import random\nimport pickle\nimport math\nimport numpy as np"
      ]
    },
    {
      "cell_type": "markdown",
      "metadata": {},
      "source": [
        "## Comparing via a histogram\n\n"
      ]
    },
    {
      "cell_type": "code",
      "execution_count": null,
      "metadata": {
        "collapsed": false
      },
      "outputs": [],
      "source": [
        "a=1"
      ]
    },
    {
      "cell_type": "markdown",
      "metadata": {},
      "source": [
        "# A statistical test\n\n"
      ]
    },
    {
      "cell_type": "code",
      "execution_count": null,
      "metadata": {
        "collapsed": false
      },
      "outputs": [],
      "source": [
        "b=2"
      ]
    }
  ],
  "metadata": {
    "kernelspec": {
      "display_name": "Python 3",
      "language": "python",
      "name": "python3"
    },
    "language_info": {
      "codemirror_mode": {
        "name": "ipython",
        "version": 3
      },
      "file_extension": ".py",
      "mimetype": "text/x-python",
      "name": "python",
      "nbconvert_exporter": "python",
      "pygments_lexer": "ipython3",
      "version": "3.9.15"
    }
  },
  "nbformat": 4,
  "nbformat_minor": 0
}