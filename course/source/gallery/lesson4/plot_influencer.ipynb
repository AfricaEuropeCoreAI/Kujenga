{
  "cells": [
    {
      "cell_type": "code",
      "execution_count": null,
      "metadata": {
        "collapsed": false
      },
      "outputs": [],
      "source": [
        "%matplotlib inline"
      ]
    },
    {
      "cell_type": "markdown",
      "metadata": {},
      "source": [
        "\n\n# What you will learn\n\n## The problem\n\nHow can we measure the influence of a person in a social network? Or how important a webpage is in the internet? This was the question \nthat Google founders Larry Page and Sergey Brin asked themselves when they were developing their search engine. \nIn this lesson we will learn the maths behing solution, now known as the PageRank, which is the basis of the algorithm \nthat powers Google search.\n\n## The methods\n\nHere we will learn about matrices and linear algebra. We will learn about the concept of an eigenvector and eigenvalue of a matrix.\n\n## How to use this material\n\nThis material is taught as part of a 6 hour learning session. Your Juenga instructor will have booked \na time for an in-person or online two hour session. This means you have two hours to work to do either side of the\nsession. Here is what you should do:\n\n*Before coming to the class*: You should read through this entire page. At the section on matrix multiplication, try to solve the example both by hand\nand using Python. If you get stuck look [here](LINK NEEDED)), but otherwise you should \nsimply read through and try to understand what we are doing. Once you have read through, you should \ndownload this page as a Jupyter notebook or as Python code by clicking the links at the bottom of this page.\nYou will need to have a Python environment set up on your computer or access via Google Colab (see here for\n info on how to set that up). ...\n\n *During class*: Your teacher will start by going through the theory for `Finding the best fit line`_. \n Please ask them questions and actively engage! \n\n# Working with matrices\n\n\n## Defining a matrix\n"
      ]
    },
    {
      "cell_type": "code",
      "execution_count": null,
      "metadata": {
        "collapsed": false
      },
      "outputs": [],
      "source": [
        "import random\nimport pickle\nimport math\nimport numpy as np\n\nAT=np.array([[0,1/4,1/4,1/4,1/4,0,0],\n             [1/4,0,1/4,1/4,1/4,0,0],\n             [1/4,1/4,0,1/4,1/4,0,0],\n             [1/2,0,0,0,1/2,0,0],\n             [0,0,0,1/2,0,1/2,0],\n             [0,0,0,1/3,1/3,0,1/3],\n             [0,0,0,1/3,1/3,1/3,0]])\n\nA=AT.transpose()\nprint(A)"
      ]
    },
    {
      "cell_type": "markdown",
      "metadata": {},
      "source": [
        "## Multiplying a matrix and a vector\n\n"
      ]
    },
    {
      "cell_type": "code",
      "execution_count": null,
      "metadata": {
        "collapsed": false
      },
      "outputs": [],
      "source": [
        "p1=np.zeros(7)\np1[0]=1\nprint(p1)\np2=np.matmul(A,p1)\nprint(p2)\np3=np.matmul(A,p2)\nprint(p3)\np4=np.matmul(A,p3)\nprint(p4)\np5=np.matmul(A,p4)\nprint(p5)"
      ]
    },
    {
      "cell_type": "markdown",
      "metadata": {},
      "source": [
        "## The largest eigenvalue\n\n"
      ]
    },
    {
      "cell_type": "code",
      "execution_count": null,
      "metadata": {
        "collapsed": false
      },
      "outputs": [],
      "source": [
        "eigenValues, eigenVectors = np.linalg.eig(A)\n\nidx = eigenValues.argsort()[::-1]   \neigenValues = eigenValues[idx]\neigenVectors = eigenVectors[:,idx]\n\nprint(eigenVectors)\n\npieig=eigenVectors[:,0]\n\npieig=pieig/sum(pieig)\npieig2=np.matmul(A,pieig)"
      ]
    }
  ],
  "metadata": {
    "kernelspec": {
      "display_name": "Python 3",
      "language": "python",
      "name": "python3"
    },
    "language_info": {
      "codemirror_mode": {
        "name": "ipython",
        "version": 3
      },
      "file_extension": ".py",
      "mimetype": "text/x-python",
      "name": "python",
      "nbconvert_exporter": "python",
      "pygments_lexer": "ipython3",
      "version": "3.9.15"
    }
  },
  "nbformat": 4,
  "nbformat_minor": 0
}