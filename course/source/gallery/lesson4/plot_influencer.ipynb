{
  "cells": [
    {
      "cell_type": "markdown",
      "metadata": {},
      "source": [
        "\n\n# What you will learn\n\nHow important is a webpage on the internet? This was the question that Google founders Larry Page and Sergey Brin asked themselves when they were developing their search engine. In this lesson we will learn the maths behind the solution, now known as PageRank, which is the basis of the algorithm that powers Google search.\n\nAs Otema explains in the video below the PageRank algorithm is the additional ingredient that allows search engines to rank the most relevant pages first. The PageRank algorithm is based on the idea that a page is important if it is linked to other important pages. Although it was originally intended to rank web pages, the PageRank algorithm can be used to analyze any kind of network, for example, social connections, biological systems and transportation infrastructure to name a few.\n\n\n.. youtube:: D8OxGNeXNIY\n    :width: 100%\n    :align: center\n\n|\n\n## The problem\n\nIn this lesson we will work with a small network built from Wikipedia pages of [Ethiopia](https://en.wikipedia.org/wiki/Ethiopia), [Ghana](https://en.wikipedia.org/wiki/Ghana), [Kenya](https://en.wikipedia.org/wiki/Kenya), [Nigeria](https://en.wikipedia.org/wiki/Nigeria), [Rwanda](https://en.wikipedia.org/wiki/Rwanda), [South Africa](https://en.wikipedia.org/wiki/South Africa) and [Uganda](https://en.wikipedia.org/wiki/Uganda) -- chosen for being the home countries of the African members of the Kujenga team. These pages represent a tiny part of the internet but the principles we will learn can be applied to networks of any size. See the video below where Amy introduces our tiny internet.\n\n.. youtube:: HO-I-6vHEY4\n    :width: 100%\n    :align: center\n|\nWe represent our network of Wikipedia pages as a directed graph where each node represents a country, shown as labeled country flags in the video. In order to construct the connections between nodes in the graph we check on each country's page for links to the other 6 countries. For example, in the first paragraph of the page for [Ethiopia](https://en.wikipedia.org/wiki/Ethiopia) we read:\n\n*Ethiopia, officially the Federal Democratic Republic of Ethiopia, is a landlocked country located in the Horn of Africa region of East Africa. It shares borders with Eritrea to the north, Djibouti to the northeast, Somalia to the east,* [Kenya](https://en.wikipedia.org/wiki/Kenya) *to the south, South Sudan to the west, and Sudan to the northwest.*\n\nHere we see a link to Kenya, meaning we should count this as a connection from Ethiopia to Kenya. We represent this connection as a directed edge in the graph, shown by an arrow pointing from Ethiopia to Kenya. The weight of each edge, shown as a number next to the edge, counts the total number of links from page *A* to page *B*, in this case, there are a total of 4 links from from Ethiopia's page to Kenya's.\n\n<img src=\"file://../../images/lesson4/network.png\">\n\n<div class=\"alert alert-info\"><h4>Note</h4><p>Wikipedia is a dynamic website and the links between pages can change over time, the network we are using is a snapshot of the Wikipedia pages taken in November 2024. You may want to update this network or even add your home country if is not already included.</p></div>\n\n\n.. admonition:: Food for Thought\n    :class: food-for-thought\n\n    As Amy mentions in the video, use your intuitive understanding of the problem to predict which countries' pages you think will have a high (or low) ranking.\n\n## The methods\n\nWe have seen a graphical representation of a network in `The problem`_ but in order to use the PageRank algorithm we will need to represent the network mathematically as a matrix. In the following section, we will learn how to work with matrices as well as some basic concepts of linear algebra. The most useful concepts for understanding PageRank will be the notions of an eigenvector and eigenvalue of a matrix which we cover in `Defining a matrix`_.\n\n## How to use this material\n\nThis material is taught as part of a 6-hour learning session. Your Kujenga instructor will have booked\na time for an in-person or online 2-hour session. This means you have two hours of work to do on either side of the in-person or online\nsession. Here is what you should do:\n\n*Before coming to the class*: You should read through this entire page. In the section on [](LINK NEEDED),\ntry to solve the example both by hand and using Python. If you get stuck look [here](LINK NEEDED), but otherwise you should\nsimply read through and try to understand what we are doing. Once you have read through, you should\ndownload this page as a Jupyter notebook or as Python code by clicking the links at the bottom of this page.\nYou will need to have a Python environment set up on your computer or access via Google Colab (see here for info on how to set that up).\n\n*During class*: Your teacher will start by going through the theory for [](LINK NEEDED).\nPlease ask them questions and actively engage!\n"
      ]
    },
    {
      "cell_type": "markdown",
      "metadata": {},
      "source": [
        "# The Mathematics of the PageRank algorithm\nThe PageRank algorithm can be understood as modeling the behavior of a \"random surfer\" navigating the internet. This surfer either clicks on a link on the current page or occasionally gets bored and jumps to a completely random page. The PageRank score of a page represents the long-term probability that this random surfer will end up on that particular page.\n\n## Preliminaries\n\nLet's break down the process using some mathematical formulas.\n\nThe PageRank Vector (\\ :strong:`R`)\n\n\\begin{align}\\mathbf{R} = \\begin{pmatrix} r_1 \\\\ r_2 \\\\ \\vdots \\\\ r_N \\end{pmatrix}\\end{align}\nThis vector \\ :strong:`R` represents the PageRank scores for all N=7 pages in the graph.\nEach element r\\ :sub:`i` is the PageRank score of page i.\nInitially, these scores can be set equally, for example, r\\ :sub:`i` = 1/N for all i.\n\nThe Transition Matrix (\\ :strong:`M`)\n\n\\begin{align}M_{ij} = \\begin{cases} 1/L_j^{\\text{out}}, & \\text{if } j \\text{ links to } i \\\\ 0, & \\text{otherwise} \\end{cases}\\end{align}\nThis matrix \\ :strong:`M` (often called the hyperlink matrix or transition matrix) encodes the link structure of the network.\n\n* L\\ :sub:`j`\\ :sup:`out` is the total number of outgoing links from page j.\n* \\ :strong:`M`\\ :sub:`ij` represents the probability of transitioning from page j to page i by following some specific link.\n\n  * If page j links to page i, the probability of following a specific link from j to i is 1/L\\ :sub:`j`\\ :sup:`out` , assuming the surfer chooses randomly among all outgoing links.\n  * If there is no link from j to i, then \\ :strong:`M`\\ :sub:`ij` = 0.\n\n## The Iterative Update Rule\n\n\\begin{align}\\mathbf{R}(t + 1) = d\\mathbf{M}\\mathbf{R}(t) + \\frac{1-d}{N} \\mathbf{1}\\end{align}\nThis is the core formula for calculating PageRank iteratively.\n\n* \\ :strong:`R`\\ (t) is the PageRank vector at iteration t, and \\ :strong:`R`\\ (t+1) is the vector at the next iteration.\n* d is the \"damping factor\" (typically around 0.85). It represents the probability that the random surfer will continue following links (as opposed to jumping to a random page). In practice, this is important to handle \"dangling nodes\", nodes with no outgoing links L\\ :sub:`j`\\ :sup:`out` = 0.\n\n\\ :strong:`M`\\ \\ :strong:`R`\\ (t) calculates how the existing PageRank scores \\ :strong:`R`\\ (t) are distributed across the network by following links. Element i of this resulting vector is the sum of PageRank contributions from all pages j that link to page i.\nd\\ \\ :strong:`M`\\ \\ :strong:`R`\\ (t) is the portion of the PageRank score derived from surfers following links.\n\n1-d is the probability that the surfer gets bored and jumps to a random page.\n(1-d)/N is the probability of landing on any specific page during a random jump (assuming N pages total).\n**1** is a column vector of size N containing all ones.\n(1-d)/N **1** represents the PageRank score distributed equally among all pages due to the random jump behavior. This term ensures that all pages receive some minimal rank and helps the algorithm converge. This is especially important for dealing with nodes with no outgoing links L\\ :sub:`j`\\ :sup:`out` = 0, as mentioned earlier, or disconnected parts of the graph.\n\n## Convergence\n\n\\begin{align}\\mathbf{R}(t + 1) \\approx \\mathbf{R}(t)\\end{align}\nThe iterative update process is repeated until the PageRank vector **R** stabilizes.\nConvergence is reached when the difference between the PageRank vector in the current iteration **R**\\ (t+1) and the previous iteration **R**\\ (t) is very small (below some predefined threshold).\nThe final vector **R** represents the stable probability distribution of the random surfer, indicating the relative importance of each page.\n\n## Simplified update rule for connected graphs\n\nLooking at the graph representing our network of Wikipedia pages we can see that the graph is connected, a technical term meaning there is a path between every pair of distinct nodes ignoring the direction of the edges. It is clear that we do not need to take into account any \"dangling nodes\", nodes with no outgoing links L\\ :sub:`j`\\ :sup:`out` = 0,  or disconnected parts of the graph.\n\nUsing this observation we can simplify the update rule by setting d = 1. This means that the random surfer will always follow a link and never jump to a random page. The update rule becomes:\n\n\\begin{align}\\mathbf{R}(t + 1) = \\frac{1}{\\lambda} \\mathbf{M}\\mathbf{R}(t)\\end{align}\nHere we introduce a normalization factor $\\lambda$. This normalization ensures that all PageRank scores (element of the vector **R**) sum to a constant value.\n\nAssuming the algorithm has converged, **R**\\ (t + 1) = **R**\\ (t), you might already recognize the resemblance to the eigenvalue equation:\n\n\\begin{align}\\mathbf{M}\\mathbf{R} = \\lambda \\mathbf{R}\\end{align}\nIf not don't worry, we will cover the details in the section `Eigenvalues and eigenvectors of a matrix`_.\n\nIn the video below Amy discusses the theory above and shows the results of applying the simplified update rule iteratively. You will see how to implement this yourself in the section ``_.\n\n.. youtube:: guf36O9rBXs\n    :width: 100%\n    :align: center\n|\n.. admonition:: Food for Thought\n    :class: food-for-thought\n\n    It turned out that Nigeria had the highest PageRank and Kenya and Uganda the lowest. Did this match your expectations based on the network shown in section `The problem`_.\n\n# Working with matrices in Python\n\nNumPy (Numerical Python) is the fundamental package for scientific computing in Python. It provides a powerful N-dimensional array object and tools for working with these arrays. We'll use NumPy arrays to represent vectors (1D arrays) and matrices (2D arrays).\n\n## Importing NumPy\nNumPy is a third-party library, so you need to install it separately. If you are using Google Colab, it is already included.\nTo load NumPy with the alias np, you can use the following command:\n\n"
      ]
    },
    {
      "cell_type": "code",
      "execution_count": null,
      "metadata": {
        "collapsed": false
      },
      "outputs": [],
      "source": [
        "import numpy as np"
      ]
    },
    {
      "cell_type": "markdown",
      "metadata": {},
      "source": [
        "## Defining a vector (1D Arrays)\n\nA vector can be thought of as a list of numbers. In NumPy, you create it using np.array() with a Python list:\n\n"
      ]
    },
    {
      "cell_type": "code",
      "execution_count": null,
      "metadata": {
        "collapsed": false
      },
      "outputs": [],
      "source": [
        "my_list = [1, 2, 3]\nmy_vector = np.array(my_list)\n\nprint(\"My Vector:\")\nprint(my_vector)"
      ]
    },
    {
      "cell_type": "markdown",
      "metadata": {},
      "source": [
        "Check its shape (dimensions)\nOutput: (3,) indicates a 1D array with 3 elements\n\n"
      ]
    },
    {
      "cell_type": "code",
      "execution_count": null,
      "metadata": {
        "collapsed": false
      },
      "outputs": [],
      "source": [
        "print(\"Vector shape:\", my_vector.shape)"
      ]
    },
    {
      "cell_type": "markdown",
      "metadata": {},
      "source": [
        "## Creating Matrices (2D Arrays)\n\nA matrix is like a grid of numbers (rows and columns). You create it using np.array() with a list of lists, where each inner list is a row:\n\n"
      ]
    },
    {
      "cell_type": "code",
      "execution_count": null,
      "metadata": {
        "collapsed": false
      },
      "outputs": [],
      "source": [
        "my_lists = [[1, 2, 3], [4, 5, 6]]\nmy_matrix = np.array(my_lists)\n\nprint(\"\\nMy Matrix:\")\nprint(my_matrix)"
      ]
    },
    {
      "cell_type": "markdown",
      "metadata": {},
      "source": [
        "Check its shape (rows, columns)\nOutput: (2, 3) indicates 2 rows and 3 columns\n\n"
      ]
    },
    {
      "cell_type": "code",
      "execution_count": null,
      "metadata": {
        "collapsed": false
      },
      "outputs": [],
      "source": [
        "print(\"Matrix shape:\", my_matrix.shape)"
      ]
    },
    {
      "cell_type": "markdown",
      "metadata": {},
      "source": [
        "Create a square matrix (same number of rows and columns)\n\n"
      ]
    },
    {
      "cell_type": "code",
      "execution_count": null,
      "metadata": {
        "collapsed": false
      },
      "outputs": [],
      "source": [
        "square_matrix = np.array([[9, 8], [7, 6]])\nprint(\"\\nSquare Matrix:\")\nprint(square_matrix)\nprint(\"Square Matrix shape:\", square_matrix.shape)"
      ]
    },
    {
      "cell_type": "markdown",
      "metadata": {},
      "source": [
        "## Basic Operations\n\nNumPy makes operating on vectors and matrices straightforward.\nElement-wise Operations: Standard arithmetic operators (+, -, *, /) often work element-by-element if the shapes are compatible.\n\n"
      ]
    },
    {
      "cell_type": "code",
      "execution_count": null,
      "metadata": {
        "collapsed": false
      },
      "outputs": [],
      "source": [
        "vec1 = np.array([1, 2, 3])\nvec2 = np.array([4, 5, 6])\nmat1 = np.array([[1, 1], [2, 2]])\nmat2 = np.array([[3, 3], [4, 4]])"
      ]
    },
    {
      "cell_type": "markdown",
      "metadata": {},
      "source": [
        "Vector addition (element-wise)\n\n"
      ]
    },
    {
      "cell_type": "code",
      "execution_count": null,
      "metadata": {
        "collapsed": false
      },
      "outputs": [],
      "source": [
        "print(\"\\nVector Addition:\", vec1 + vec2)  # Output: [5 7 9]"
      ]
    },
    {
      "cell_type": "markdown",
      "metadata": {},
      "source": [
        "Matrix addition (element-wise)\n\n"
      ]
    },
    {
      "cell_type": "code",
      "execution_count": null,
      "metadata": {
        "collapsed": false
      },
      "outputs": [],
      "source": [
        "print(\"Matrix Addition:\\n\", mat1 + mat2)"
      ]
    },
    {
      "cell_type": "markdown",
      "metadata": {},
      "source": [
        "Scalar multiplication (multiply every element by a number)\n\n"
      ]
    },
    {
      "cell_type": "code",
      "execution_count": null,
      "metadata": {
        "collapsed": false
      },
      "outputs": [],
      "source": [
        "print(\"Scalar Multiplication (Vector):\", 3 * vec1)  # Output: [3 6 9]\nprint(\"Scalar Multiplication (Matrix):\\n\", 2 * mat1)"
      ]
    },
    {
      "cell_type": "markdown",
      "metadata": {},
      "source": [
        "Dot Product / Matrix Multiplication: This is different from element-wise multiplication (*). It's the standard mathematical operation. Use np.dot() or the @ operator.\n\n"
      ]
    },
    {
      "cell_type": "code",
      "execution_count": null,
      "metadata": {
        "collapsed": false
      },
      "outputs": [],
      "source": [
        "vec1 = np.array([1, 2, 3])\nvec2 = np.array([4, 5, 6])"
      ]
    },
    {
      "cell_type": "markdown",
      "metadata": {},
      "source": [
        "Vector dot product (sum of element-wise products)\n\n"
      ]
    },
    {
      "cell_type": "code",
      "execution_count": null,
      "metadata": {
        "collapsed": false
      },
      "outputs": [],
      "source": [
        "dot_product = np.dot(vec1, vec2)  # 1*4 + 2*5 + 3*6 = 4 + 10 + 18 = 32"
      ]
    },
    {
      "cell_type": "markdown",
      "metadata": {},
      "source": [
        "Or using the @ operator\n\n"
      ]
    },
    {
      "cell_type": "code",
      "execution_count": null,
      "metadata": {
        "collapsed": false
      },
      "outputs": [],
      "source": [
        "dot_product_alt = vec1 @ vec2\nprint(\"\\nVector Dot Product:\", dot_product)\nprint(\"Vector Dot Product (@):\", dot_product_alt)\n\nmat1 = np.array([[1, 2], [3, 4]])  # 2x2 matrix\nmat2 = np.array([[5, 6], [7, 8]])  # 2x2 matrix\nvec3 = np.array([10, 20])  # 1x2 vector"
      ]
    },
    {
      "cell_type": "markdown",
      "metadata": {},
      "source": [
        "Matrix multiplication\n\n"
      ]
    },
    {
      "cell_type": "code",
      "execution_count": null,
      "metadata": {
        "collapsed": false
      },
      "outputs": [],
      "source": [
        "matrix_product = np.dot(mat1, mat2)"
      ]
    },
    {
      "cell_type": "markdown",
      "metadata": {},
      "source": [
        "Or using the @ operator\n\n"
      ]
    },
    {
      "cell_type": "code",
      "execution_count": null,
      "metadata": {
        "collapsed": false
      },
      "outputs": [],
      "source": [
        "matrix_product_alt = mat1 @ mat2\nprint(\"Matrix Multiplication:\\n\", matrix_product)\nprint(\"Matrix Multiplication (@):\\n\", matrix_product_alt)"
      ]
    },
    {
      "cell_type": "markdown",
      "metadata": {},
      "source": [
        "Matrix-vector multiplication\n\n"
      ]
    },
    {
      "cell_type": "code",
      "execution_count": null,
      "metadata": {
        "collapsed": false
      },
      "outputs": [],
      "source": [
        "mat_vec_product = np.dot(mat1, vec3)  # Note: Treats vec3 as a column vector here"
      ]
    },
    {
      "cell_type": "markdown",
      "metadata": {},
      "source": [
        "Or using the @ operator\n\n"
      ]
    },
    {
      "cell_type": "code",
      "execution_count": null,
      "metadata": {
        "collapsed": false
      },
      "outputs": [],
      "source": [
        "mat_vec_product_alt = mat1 @ vec3\nprint(\"Matrix-Vector Multiplication:\", mat_vec_product)\nprint(\"Matrix-Vector Multiplication (@):\", mat_vec_product_alt)"
      ]
    },
    {
      "cell_type": "markdown",
      "metadata": {},
      "source": [
        "<div class=\"alert alert-info\"><h4>Note</h4><p>Simple multiplication $*$ is element-wise, not matrix multiplication!</p></div>\n\n"
      ]
    },
    {
      "cell_type": "code",
      "execution_count": null,
      "metadata": {
        "collapsed": false
      },
      "outputs": [],
      "source": [
        "print(\"Element-wise Matrix Multiplication (NOT dot product):\\n\", mat1 * mat2)"
      ]
    },
    {
      "cell_type": "markdown",
      "metadata": {},
      "source": [
        "Rule for A @ B: The number of columns in A must equal the number of rows in B.\nTranspose: Swaps rows and columns. Use the .T attribute.\n\n"
      ]
    },
    {
      "cell_type": "code",
      "execution_count": null,
      "metadata": {
        "collapsed": false
      },
      "outputs": [],
      "source": [
        "matrix = np.array([[1, 2, 3], [4, 5, 6]])\nprint(\"\\nOriginal Matrix:\\n\", matrix)\nprint(\"Transposed Matrix:\\n\", matrix.T)\nprint(\"Original shape:\", matrix.shape)  # Output: (2, 3)\nprint(\"Transposed shape:\", matrix.T.shape)  # Output: (3, 2)"
      ]
    },
    {
      "cell_type": "markdown",
      "metadata": {},
      "source": [
        "## Accessing Elements\n\nYou can access elements using zero-based indexing, similar to Python lists. For matrices, use [row, column].\n\n"
      ]
    },
    {
      "cell_type": "code",
      "execution_count": null,
      "metadata": {
        "collapsed": false
      },
      "outputs": [],
      "source": [
        "vector = np.array([10, 20, 30, 40])\nmatrix = np.array([[1, 2], [3, 4]])"
      ]
    },
    {
      "cell_type": "markdown",
      "metadata": {},
      "source": [
        "Get the first element of the vector (index 0)\n\n"
      ]
    },
    {
      "cell_type": "code",
      "execution_count": null,
      "metadata": {
        "collapsed": false
      },
      "outputs": [],
      "source": [
        "print(\"\\nVector element [0]:\", vector[0])  # Output: 10"
      ]
    },
    {
      "cell_type": "markdown",
      "metadata": {},
      "source": [
        "Get the element at row 1, column 0 of the matrix\n\n"
      ]
    },
    {
      "cell_type": "code",
      "execution_count": null,
      "metadata": {
        "collapsed": false
      },
      "outputs": [],
      "source": [
        "print(\"Matrix element [1, 0]:\", matrix[1, 0])  # Output: 3"
      ]
    },
    {
      "cell_type": "markdown",
      "metadata": {},
      "source": [
        "Get an entire row (e.g., row 0)\n\n"
      ]
    },
    {
      "cell_type": "code",
      "execution_count": null,
      "metadata": {
        "collapsed": false
      },
      "outputs": [],
      "source": [
        "print(\"Matrix row [0]:\", matrix[0])  # Output: [1 2]"
      ]
    },
    {
      "cell_type": "markdown",
      "metadata": {},
      "source": [
        "Get an entire column (e.g., column 1) using slicing ':'\n\n"
      ]
    },
    {
      "cell_type": "code",
      "execution_count": null,
      "metadata": {
        "collapsed": false
      },
      "outputs": [],
      "source": [
        "print(\"Matrix column [:, 1]:\", matrix[:, 1])  # Output: [2 4]"
      ]
    },
    {
      "cell_type": "markdown",
      "metadata": {},
      "source": [
        "## Constructing the transition matrix **M**\n\nThe transition matrix \\ :strong:`M`, given in section `Preliminaries`_, has elements\n\n\\begin{align}M_{ij} = \\begin{cases} 1/L_j^{\\text{out}}, & \\text{if } j \\text{ links to } i \\\\ 0, & \\text{otherwise} \\end{cases}\\end{align}\nwhere L\\ :sub:`j`\\ :sup:`out` is the total number of outgoing links from page j.\n\nFrom the network shown in section `The problem`_ we can count up the number of outgoing links for each country and summarize them in a table.\n\n.. list-table:: Number of outgoing links for each country (L\\ :sub:`j`\\ :sup:`out`)\n    :widths: 50 50\n    :header-rows: 1\n\n    * - Country\n      - Number of outgoing links\n    * - ZA\n      - 7\n    * - GH\n      - 10\n    * - NG\n      - 6\n    * - RW\n      - 25\n    * - UG\n      - 21\n    * - KE\n      - 20\n    * - ET\n      - 18\n\nWe can again use the network shown in section `The problem`_ to check if if there is a link from country j to country i. For example, we can see that there is a link from Ethiopia to Kenya but not from Ethiopia to South Africa. Combining these two pieces of information we can construct the transition matrix \\ :strong:`M` as shown in the table below.\n\n.. list-table:: PageRank matrix elements\n    :widths: 15 15 15 15 15 15 15 15\n    :header-rows: 1\n\n    * -\n      - ZA\n      - GH\n      - NG\n      - RW\n      - UG\n      - KE\n      - ET\n    * - ZA\n      - 0\n      - 1/10\n      - 1/6\n      - 1/25\n      - 1/21\n      - 1/20\n      - 0\n    * - GH\n      - 0\n      - 0\n      - 1/6\n      - 0\n      - 0\n      - 0\n      - 0\n    * - NG\n      - 1/7\n      - 1/10\n      - 0\n      - 1/25\n      - 1/21\n      - 1/20\n      - 1/18\n    * - RW\n      - 1/7\n      - 0\n      - 0\n      - 0\n      - 1/21\n      - 0\n      - 1/18\n    * - UG\n      - 0\n      - 0\n      - 0\n      - 1/25\n      - 0\n      - 1/20\n      - 1/18\n    * - KE\n      - 0\n      - 0\n      - 0\n      - 1/25\n      - 1/21\n      - 0\n      - 1/18\n    * - ET\n      - 1/7\n      - 1/10\n      - 0\n      - 1/25\n      - 0\n      - 1/20\n      - 0\n\nThis table can be translated into Python code as a NumPy array:\n\n"
      ]
    },
    {
      "cell_type": "code",
      "execution_count": null,
      "metadata": {
        "collapsed": false
      },
      "outputs": [],
      "source": [
        "M = np.array(\n    [\n        [0, 1 / 10, 1 / 6, 1 / 25, 1 / 21, 1 / 20, 0],\n        [0, 0, 1 / 6, 0, 0, 0, 0],\n        [1 / 7, 1 / 10, 0, 1 / 25, 1 / 21, 1 / 20, 1 / 18],\n        [1 / 7, 0, 0, 0, 1 / 21, 0, 1 / 18],\n        [0, 0, 0, 1 / 25, 0, 1 / 20, 1 / 18],\n        [0, 0, 0, 1 / 25, 1 / 21, 0, 1 / 18],\n        [1 / 7, 1 / 10, 0, 1 / 25, 0, 1 / 20, 0],\n    ]\n)\n\nprint(M)"
      ]
    },
    {
      "cell_type": "markdown",
      "metadata": {},
      "source": [
        ".. admonition:: Food for Thought\n    :class: food-for-thought\n\n    If a new link between two pages were added or even a whole new page, how would with change the matrix **M**? Does such a change to **M** represent a large or small computational cost? Consider this in a real-world context where the number of pages (nodes in the network) could be extremely large.\n\n# Simulating PageRank\n\nLet's choose an initial PageRank vector **R**\\ (0) and apply the update rule iteratively until convergence.\n\n"
      ]
    },
    {
      "cell_type": "code",
      "execution_count": null,
      "metadata": {
        "collapsed": false
      },
      "outputs": [],
      "source": [
        "R = np.array([1, 1, 1, 1, 1, 1, 1]) * 100 / 7  # Initial PageRank vector\nprint(\"Initial PageRank vector R(0):\", R)"
      ]
    },
    {
      "cell_type": "markdown",
      "metadata": {},
      "source": [
        "Create a variable t to keep track of the number of iterations performed\n\n"
      ]
    },
    {
      "cell_type": "code",
      "execution_count": null,
      "metadata": {
        "collapsed": false
      },
      "outputs": [],
      "source": [
        "t = 0  # Iteration counter\nprint(\"Iteration:\", t)"
      ]
    },
    {
      "cell_type": "markdown",
      "metadata": {},
      "source": [
        "Create a vector with the county codes which will be used to label the PageRank vector\n\n"
      ]
    },
    {
      "cell_type": "code",
      "execution_count": null,
      "metadata": {
        "collapsed": false
      },
      "outputs": [],
      "source": [
        "countries = [\"ZA\", \"GH\", \"NG\", \"RW\", \"UG\", \"KE\", \"ET\"]\nprint(\"Countries:\", countries)"
      ]
    },
    {
      "cell_type": "markdown",
      "metadata": {},
      "source": [
        "Apply the update rule\n\n"
      ]
    },
    {
      "cell_type": "code",
      "execution_count": null,
      "metadata": {
        "collapsed": false
      },
      "outputs": [],
      "source": [
        "R = np.dot(M, R)  # Update PageRank vector using matrix multiplication\nR = R / np.sum(R) * 100  # Normalize the PageRank vector to sum to 100\nprint(\n    f\"Updated PageRank vector R({t+1}):\\n\",\n    \"\\n \".join([f\"{c}: {r:.2f}\" for c, r in zip(countries, R)]),\n)\nt += 1  # Increment iteration counter"
      ]
    },
    {
      "cell_type": "markdown",
      "metadata": {},
      "source": [
        "Run the cell above multiple times to see how the PageRank vector converges. If you want to start again be sure to rerun all the cells in the `Simulating PageRank`_ section to avoid unexpected behavior.\n\n.. admonition:: Food for Thought\n    :class: food-for-thought\n\n    If you run the cell above multiple times you will see that the PageRank vector converges to a stable value. How many iterations does it take to converge? Do you think this is a reasonable number of iterations for a real-world application?\n    What happens if you choose a different initial PageRank vector? Does it converge to the same value?\n\n# Eigenvalues and eigenvectors of a matrix\n\nIn the video below Amandine and Amy give a brief introduction to eigenvalues and eigenvectors and how they are applied in the context of the PageRank algorithm.\n\n.. youtube:: RuCxLyykc2g\n    :width: 100%\n    :align: center\n|\nLet's summarize the mathematics shown in the video. The N-by-N matrix **M** has N eigenvectors math:`\\mathbf{v}_i`` which obey the equation:\n\n$\\mathbf{M}\\mathbf{v}_i = \\lambda_i \\mathbf{v}_i$\nwhere math:`\\lambda_i` is the eigenvalue associated with the eigenvector math:`\\mathbf{v}_i`.\n\nThe eigenvalue equation states that when the matrix **M** acts on the eigenvector math:`\\mathbf{v}_i`, it scales the vector by a factor of math:`\\lambda_i` without changing its direction.\n\nLet's use Python to compute the eigenvalues and the corresponding eigenvectors of the transition matrix **M**. We will use the `numpy.linalg.eig()` function to compute the eigenvalues and eigenvectors of a matrix.\n\n"
      ]
    },
    {
      "cell_type": "code",
      "execution_count": null,
      "metadata": {
        "collapsed": false
      },
      "outputs": [],
      "source": [
        "eigenValues, eigenVectors = np.linalg.eig(M)\nprint(\"Eigenvalues:\", eigenValues)"
      ]
    },
    {
      "cell_type": "markdown",
      "metadata": {},
      "source": [
        "Note that some of the eigenvalues are complex, e.g. 0.02227925-0.04471056j.\n\nLet's get the index of the largest eigenvalue by first getting a list of the indices of the sorted eigenValues:\n\n"
      ]
    },
    {
      "cell_type": "code",
      "execution_count": null,
      "metadata": {
        "collapsed": false
      },
      "outputs": [],
      "source": [
        "idx = eigenValues.argsort()[::-1]  # Sort eigenValues in descending order\n\nprint(idx)"
      ]
    },
    {
      "cell_type": "markdown",
      "metadata": {},
      "source": [
        "Now let's replace the eigenValues and eigenVectors with the sorted versions\n\n"
      ]
    },
    {
      "cell_type": "code",
      "execution_count": null,
      "metadata": {
        "collapsed": false
      },
      "outputs": [],
      "source": [
        "eigenValues = eigenValues[idx]\neigenVectors = eigenVectors[:, idx]\n\nprint(\"Sorted Eigenvalues:\", eigenValues)"
      ]
    },
    {
      "cell_type": "markdown",
      "metadata": {},
      "source": [
        "The largest eigenvalue is the first element of the sorted eigenValues array. The corresponding eigenvector is the first column of the sorted eigenVectors array.\n\n"
      ]
    },
    {
      "cell_type": "code",
      "execution_count": null,
      "metadata": {
        "collapsed": false
      },
      "outputs": [],
      "source": [
        "largest_eigenvalue = eigenValues[0]\nlargest_eigenvector = eigenVectors[:, 0]\nprint(\"Largest Eigenvalue:\", largest_eigenvalue)\nprint(\"Corresponding Eigenvector:\", largest_eigenvector)"
      ]
    },
    {
      "cell_type": "markdown",
      "metadata": {},
      "source": [
        "Check that the eigenvalue equation holds\n\n"
      ]
    },
    {
      "cell_type": "code",
      "execution_count": null,
      "metadata": {
        "collapsed": false
      },
      "outputs": [],
      "source": [
        "print(\"M @ largest_eigenvector:\")\nprint(np.dot(M, largest_eigenvector))\nprint(\"largest_eigenvalue * largest_eigenvector:\")\nprint(largest_eigenvalue * largest_eigenvector)"
      ]
    },
    {
      "cell_type": "markdown",
      "metadata": {},
      "source": [
        "In the final video Amandine will briefly take you through the computation of the eigenvalues and eigenvalues of the transition matrix **M** including how to sort them to extract the largest eigenvalue and its corresponding eigenvector.\n\n.. youtube:: GtiyJYddliI\n    :width: 100%\n    :align: center\n|\n\n# Directly computing the PageRank scores\nDoes this help us predict the PageRank scores? Let's normalize largest_eigenvector and check that the values correspond to the PageRank scores obtained using the iterative method applied in the section `Simulating PageRank`_.\n\n"
      ]
    },
    {
      "cell_type": "code",
      "execution_count": null,
      "metadata": {
        "collapsed": false
      },
      "outputs": [],
      "source": [
        "largest_eigenvector_normalized = largest_eigenvector / np.sum(largest_eigenvector) * 100\nprint(\n    f\"Normalized largest eigenvector:\\n\",\n    \"\\n \".join(\n        [f\"{c}: {r:.2f}\" for c, r in zip(countries, largest_eigenvector_normalized)]\n    ),\n)"
      ]
    },
    {
      "cell_type": "markdown",
      "metadata": {},
      "source": [
        "What about the other eigenvalues and eigenvectors? Why do we only need to consider the eigenvalue with the largest magnitude and its corresponding eigenvector?\nIt turns out that the eigenvalue with the largest magnitude is the only one that matters for the PageRank algorithm.\n\nEigenvectors corresponding to distinct eigenvalues are always linearly independent. You can verify that this is the case for our transition matrix **M**. Consequently, it is possible to rewrite any initial state **R**\\ (0) as a linear combination of the eigenvectors **v**\\ :sub:`i` of **M**,\n\n\\begin{align}\\mathbf{R}(0) = \\sum_{i=1}^N \\lambda_i^t a_i \\mathbf{v}_i\\end{align}\n\nThe PageRank vector **R**\\ (t) at iteration t can be expressed as a linear combination of the eigenvectors of **M**:\n\n\\begin{align}\\mathbf{R}(1) = \\sum_{i=1}^N  a_i \\mathbf{M}\\mathbf{v}_i = \\sum_{i=1}^N  a_i \\lambda_i\\mathbf{v}_i\\end{align}\nApplying **M** t times you can convince yourself that\n\n\\begin{align}\\mathbf{R}(t) = \\sum_{i=1}^N  a_i \\mathbf{M}^t\\mathbf{v}_i = \\sum_{i=1}^N  a_i \\lambda_i^t\\mathbf{v}_i\\end{align}\n\nAssuming that the eigenvalues are labeled so that $|\\lambda_1| > |\\lambda_2| > |\\lambda_3| > ... > |\\lambda_N|$, the term $\\lambda_1^t a_1 \\mathbf{v}_1$ will dominate the sum as t increases. The other terms will decay to zero as t increases, and the PageRank vector will converge to a multiple of the eigenvector corresponding to the largest eigenvalue.\n\n\n"
      ]
    }
  ],
  "metadata": {
    "kernelspec": {
      "display_name": "Python 3",
      "language": "python",
      "name": "python3"
    },
    "language_info": {
      "codemirror_mode": {
        "name": "ipython",
        "version": 3
      },
      "file_extension": ".py",
      "mimetype": "text/x-python",
      "name": "python",
      "nbconvert_exporter": "python",
      "pygments_lexer": "ipython3",
      "version": "3.14.0"
    }
  },
  "nbformat": 4,
  "nbformat_minor": 0
}