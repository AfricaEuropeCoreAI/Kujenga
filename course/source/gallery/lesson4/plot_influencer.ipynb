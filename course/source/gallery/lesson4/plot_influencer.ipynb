{
  "cells": [
    {
      "cell_type": "markdown",
      "metadata": {},
      "source": [
        "\n\n# What you will learn\n\n.. youtube:: D8OxGNeXNIY\n    :width: 100%\n    :align: center\n\n|\n\n## The problem\n\nHow can we measure the influence of a person in a social network? Or how important a webpage is in the internet? This was the question\nthat Google founders Larry Page and Sergey Brin asked themselves when they were developing their search engine.\nIn this lesson we will learn the maths behind solution, now known as the PageRank, which is the basis of the algorithm\nthat powers Google search. As Otema explained in the video above the PageRank algorithm is the additional ingredient that allows search engines\nto rank the most relevant pages first. The PageRank algorithm is based on the idea that a page is important if it is linked to\nby other important pages. Although it was originally intended to rank web pages, the PageRank algorithm can be used to analysis\nany kind of network, for example social interactions, biological systems and transportation infrastructure to name a few.\n\n\nIn this lesson we will work with a small network built from Wikipedia pages of [Ethiopia](https://en.wikipedia.org/wiki/Ethiopia), [Ghana](https://en.wikipedia.org/wiki/Ghana), [Kenya](https://en.wikipedia.org/wiki/Kenya), [Nigeria](https://en.wikipedia.org/wiki/Nigeria), [Rwanda](https://en.wikipedia.org/wiki/Rwanda), [South Africa](https://en.wikipedia.org/wiki/South Africa) and [Uganda](https://en.wikipedia.org/wiki/Uganda) -- chosen for being the home countries of the African members of the Kujenga team. These pages represent a tiny part of the internet but the principles we will learn can be applied to networks of any size. See the video below where Amy introduces our tiny internet.\n\n<img src=\"file://../../images/lesson4/network.png\">\n\nWe represent our network of pages as a directed graph where each node represents a country, shown as labelled country flags in the video below. In order to construct the connections between nodes in the graph we check on each country's page for links to the other 6 countries. For example, in the first paragraph of the page for [Ethiopia](https://en.wikipedia.org/wiki/Ethiopia) we read:\n\n*Ethiopia, officially the Federal Democratic Republic of Ethiopia, is a landlocked country located in the Horn of Africa region of East Africa. It shares borders with Eritrea to the north, Djibouti to the northeast, Somalia to the east,* [Kenya](https://en.wikipedia.org/wiki/Kenya) *to the south, South Sudan to the west, and Sudan to the northwest.*\n\nHere we see a link to Kenya, meaning we should count this as a connection from Ethiopia to Kenya. We represent this connection as a directed edge in the graph, shown by an arrow pointing from Ethiopia to Kenya. The weight of each edge (shown as a number next to the edge) counts the number of links, in this case 4 in total.\n\n<div class=\"alert alert-info\"><h4>Note</h4><p>Wikipedia is a dynamic website and the links between pages can change over time, the network we are using is a snapshot of the Wikipedia pages taken in November 2024. You may want to update this network or maybe add your home country if is not already included. You can do this by going to the Wikipedia page of your country and checking for links to the other countries in the network. If you find any, you can add them to the network by editing the code in `Working with matrices`_.</p></div>\n\n\n\n.. youtube:: HO-I-6vHEY4\n    :width: 100%\n    :align: center\n\n.. admonition:: Food for Thought\n:class: food-for-thought\n\nAs Amy mentions in the video, use your intuitive understanding of the problem to predict which countries you think will have a high (or low) ranking.\n\n## The methods\n\nWe have seen a graphical representation of a network in `The problem`_ but in order to use the PageRank algorithm we will need to represent the network mathematical as a matrix. In the following sections we will learn how to work with matrices as well as some basic concepts of linear algebra. The most useful concepts for understanding PageRank will be the notions of an eigenvector and eigenvalue of a matrix which we cover in `Defining a matrix`_.\n\n## How to use this material\n\nThis material is taught as part of a 6 hour learning session. Your Kujenga instructor will have booked\na time for an in-person or online two hour session. This means you have two hours of work to do either side of the in-person or online\nsession. Here is what you should do:\n\n*Before coming to the class*: You should read through this entire page. At the section on multiplying a matrix and a vector,\ntry to solve the example both by hand and using Python. If you get stuck look [here](LINK NEEDED), but otherwise you should\nsimply read through and try to understand what we are doing. Once you have read through, you should\ndownload this page as a Jupyter notebook or as Python code by clicking the links at the bottom of this page.\nYou will need to have a Python environment set up on your computer or access via Google Colab (see here for info on how to set that up).\n\n*During class*: Your teacher will start by going through the theory for `Working with matrices`_.\nPlease ask them questions and actively engage!\n\n# Working with matrices\n\n\n## Defining a matrix\n"
      ]
    },
    {
      "cell_type": "code",
      "execution_count": null,
      "metadata": {
        "collapsed": false
      },
      "outputs": [],
      "source": [
        "import random\nimport pickle\nimport math\nimport numpy as np\n\nAT = np.array(\n    [\n        [0, 1 / 4, 1 / 4, 1 / 4, 1 / 4, 0, 0],\n        [1 / 4, 0, 1 / 4, 1 / 4, 1 / 4, 0, 0],\n        [1 / 4, 1 / 4, 0, 1 / 4, 1 / 4, 0, 0],\n        [1 / 2, 0, 0, 0, 1 / 2, 0, 0],\n        [0, 0, 0, 1 / 2, 0, 1 / 2, 0],\n        [0, 0, 0, 1 / 3, 1 / 3, 0, 1 / 3],\n        [0, 0, 0, 1 / 3, 1 / 3, 1 / 3, 0],\n    ]\n)\n\nA = AT.transpose()\nprint(A)"
      ]
    },
    {
      "cell_type": "markdown",
      "metadata": {},
      "source": [
        "## Multiplying a matrix and a vector\n\n"
      ]
    },
    {
      "cell_type": "code",
      "execution_count": null,
      "metadata": {
        "collapsed": false
      },
      "outputs": [],
      "source": [
        "p1 = np.zeros(7)\np1[0] = 1\nprint(p1)\np2 = np.matmul(A, p1)\nprint(p2)\np3 = np.matmul(A, p2)\nprint(p3)\np4 = np.matmul(A, p3)\nprint(p4)\np5 = np.matmul(A, p4)\nprint(p5)"
      ]
    },
    {
      "cell_type": "markdown",
      "metadata": {},
      "source": [
        "## The largest eigenvalue\n\n"
      ]
    },
    {
      "cell_type": "code",
      "execution_count": null,
      "metadata": {
        "collapsed": false
      },
      "outputs": [],
      "source": [
        "eigenValues, eigenVectors = np.linalg.eig(A)\n\nidx = eigenValues.argsort()[::-1]\neigenValues = eigenValues[idx]\neigenVectors = eigenVectors[:, idx]\n\nprint(eigenVectors)\n\npieig = eigenVectors[:, 0]\n\npieig = pieig / sum(pieig)\npieig2 = np.matmul(A, pieig)"
      ]
    },
    {
      "cell_type": "markdown",
      "metadata": {},
      "source": [
        "# The Mathematics of the PageRank algorithm\n\n.. youtube:: guf36O9rBXs\n    :width: 100%\n    :align: center\n|\n.. admonition:: Food for Thought\n    :class: food-for-thought\n\n    It turned out that ... had the highest PageRank and ... the lowest. Did this match your expectations? If not, what do you think the reason is? If you are still not sure we will prove the answer in this section.\n\n.. list-table:: Number of outgoing links for each country\n    :widths: 50 50\n    :header-rows: 1\n\n    * - Country\n      - Number of outgoing links\n    * - ZA\n      - 7\n    * - GH\n      - 10\n    * - NG\n      - 6\n    * - RW\n      - 25\n    * - UG\n      - 21\n    * - KE\n      - 20\n    * - ET\n      - 18\n\n.. list-table:: PageRank matrix elements\n    :widths: 15 15 15 15 15 15 15 15\n    :header-rows: 1\n\n    * -\n      - ZA\n      - GH\n      - NG\n      - RW\n      - UG\n      - KE\n      - ET\n    * - ZA\n      - 0\n      - 1/10\n      - 1/6\n      - 1/25\n      - 1/21\n      - 1/20\n      - 0\n    * - GH\n      - 0\n      - 0\n      - 1/6\n      - 0\n      - 0\n      - 0\n      - 0\n    * - NG\n      - 1/7\n      - 1/10\n      - 0\n      - 1/25\n      - 1/21\n      - 1/20\n      - 0\n    * - RW\n      - 1/7\n      - 0\n      - 0\n      - 0\n      - 1/21\n      - 0\n      - 1/18\n    * - UG\n      - 0\n      - 0\n      - 0\n      - 1/25\n      - 0\n      - 1/20\n      - 1/18\n    * - KE\n      - 0\n      - 0\n      - 0\n      - 1/25\n      - 1/21\n      - 0\n      - 1/18\n    * - ET\n      - 1/7\n      - 1/10\n      - 0\n      - 1/25\n      - 0\n      - 1/20\n      - 0\n\n\\begin{align}\\mathbf{M} =\n    \\begin{pmatrix}\n    0 & \\frac{1}{10} & \\frac{1}{6} & \\frac{1}{25} & \\frac{1}{21} & \\frac{1}{20} & 0 \\\\\n    0 & 0 & \\frac{1}{6} & 0 & 0 & 0 & 0 \\\\\n    \\frac{1}{7} & \\frac{1}{10} & 0 & \\frac{1}{25} & \\frac{1}{21} & \\frac{1}{20} & 0 \\\\\n    \\frac{1}{7} & 0 & 0 & 0 & \\frac{1}{21} & 0 & \\frac{1}{18} \\\\\n    0 & 0 & 0 & \\frac{1}{25} & 0 & \\frac{1}{20} & \\frac{1}{18} \\\\\n    0 & 0 & 0 & \\frac{1}{25} & \\frac{1}{21} & 0 & \\frac{1}{18} \\\\\n    \\frac{1}{7} & \\frac{1}{10} & 0 & \\frac{1}{25} & 0 & \\frac{1}{20} & 0\n    \\end{pmatrix}\\end{align}\n\n"
      ]
    },
    {
      "cell_type": "code",
      "execution_count": null,
      "metadata": {
        "collapsed": false
      },
      "outputs": [],
      "source": [
        "M = np.array(\n    [\n        [0, 1 / 10, 1 / 6, 1 / 25, 1 / 21, 1 / 20, 0],\n        [0, 0, 1 / 6, 0, 0, 0, 0],\n        [1 / 7, 1 / 10, 0, 1 / 25, 1 / 21, 1 / 20, 0],\n        [1 / 7, 0, 0, 0, 1 / 21, 0, 1 / 18],\n        [0, 0, 0, 1 / 25, 0, 1 / 20, 1 / 18],\n        [0, 0, 0, 1 / 25, 1 / 21, 0, 1 / 18],\n        [1 / 7, 1 / 10, 0, 1 / 25, 0, 1 / 20, 0],\n    ]\n)\n\nprint(AT)"
      ]
    },
    {
      "cell_type": "markdown",
      "metadata": {},
      "source": [
        "\\begin{align}\\mathbf{R} = \\begin{pmatrix} r_1 \\\\ r_2 \\\\ \\vdots \\\\ r_N \\end{pmatrix}\\end{align}\n\\begin{align}\\mathbf{R}(t + 1) = d\\mathbf{M}\\mathbf{R}(t) + \\frac{1-d}{N} \\mathbf{1}\\end{align}\n\\begin{align}\\mathbf{R}(t + 1) \\approx \\mathbf{R}(t)\\end{align}\n\\begin{align}M_{ij} = \\begin{cases} 1/L_j^{\\text{out}}, & \\text{if } j \\text{ links to } i \\\\ 0, & \\text{otherwise} \\end{cases}\\end{align}\n\\begin{align}\\mathbf{R}(t + 1) = \\frac{1}{\\lambda} \\mathbf{M}\\mathbf{R}(t)\\end{align}\n\n"
      ]
    }
  ],
  "metadata": {
    "kernelspec": {
      "display_name": "Python 3",
      "language": "python",
      "name": "python3"
    },
    "language_info": {
      "codemirror_mode": {
        "name": "ipython",
        "version": 3
      },
      "file_extension": ".py",
      "mimetype": "text/x-python",
      "name": "python",
      "nbconvert_exporter": "python",
      "pygments_lexer": "ipython3",
      "version": "3.9.13"
    }
  },
  "nbformat": 4,
  "nbformat_minor": 0
}